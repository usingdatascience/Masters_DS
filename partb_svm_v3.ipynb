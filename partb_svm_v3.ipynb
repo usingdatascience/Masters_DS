{
 "cells": [
  {
   "cell_type": "markdown",
   "metadata": {},
   "source": [
    "## Module 2 :- Assignment (Part B) -  Neil Chapman (matriculation number = 40416167 )\n",
    "### (Models Learnt from Course)"
   ]
  },
  {
   "cell_type": "markdown",
   "metadata": {},
   "source": [
    "### Import required libraries"
   ]
  },
  {
   "cell_type": "code",
   "execution_count": 1,
   "metadata": {},
   "outputs": [],
   "source": [
    "import json\n",
    "from pprint import pprint\n",
    "import pandas as pd\n",
    "import nltk\n",
    "%matplotlib inline\n",
    "from nltk import FreqDist\n",
    "from nltk.corpus import stopwords\n",
    "from nltk.tokenize import word_tokenize\n",
    "from nltk.tokenize import TweetTokenizer\n",
    "import re\n",
    "import nltk.classify.util, nltk.metrics\n",
    "from nltk.classify import NaiveBayesClassifier\n",
    "import math\n",
    "\n",
    "import numpy as np\n",
    "from nltk import pos_tag\n",
    "from nltk.stem import WordNetLemmatizer\n",
    "from sklearn.preprocessing import LabelEncoder\n",
    "from collections import defaultdict\n",
    "from nltk.corpus import wordnet as wn\n",
    "from sklearn.feature_extraction.text import TfidfVectorizer\n",
    "from sklearn import model_selection, naive_bayes, svm\n",
    "from sklearn.model_selection import cross_val_score\n",
    "from sklearn.metrics import accuracy_score"
   ]
  },
  {
   "cell_type": "markdown",
   "metadata": {},
   "source": [
    "### Load in Data from JSON files"
   ]
  },
  {
   "cell_type": "code",
   "execution_count": 2,
   "metadata": {},
   "outputs": [],
   "source": [
    "s_data = ''\n",
    "r_data = ''\n",
    "n_data = ''\n",
    "with open('sexism.json') as f:\n",
    "    s_data = [json.loads(line) for line in f]\n",
    "with open('racism.json') as f:\n",
    "    r_data = [json.loads(line) for line in f]\n",
    "with open('neither.json') as f:\n",
    "    n_data = [json.loads(line) for line in f]"
   ]
  },
  {
   "cell_type": "markdown",
   "metadata": {},
   "source": [
    "### Convert the dictionary (json files) into a Panda's Dataframe, using json_normalize utility\n",
    "Using the pandas library,so that we can then store the json files into an easily manageable way, that will also provide us with a way of analysing the data/text within the files."
   ]
  },
  {
   "cell_type": "code",
   "execution_count": 3,
   "metadata": {},
   "outputs": [],
   "source": [
    "# import the json_normalize package from pandas\n",
    "from pandas.io.json import json_normalize"
   ]
  },
  {
   "cell_type": "code",
   "execution_count": 4,
   "metadata": {},
   "outputs": [],
   "source": [
    "# load up the data from the dictionaries into pandas dataframes, using the json_normalize function\n",
    "sf = pd.DataFrame.from_dict(json_normalize(s_data), orient='columns')\n",
    "rf = pd.DataFrame.from_dict(json_normalize(r_data), orient='columns')\n",
    "nf = pd.DataFrame.from_dict(json_normalize(n_data), orient='columns')"
   ]
  },
  {
   "cell_type": "markdown",
   "metadata": {},
   "source": [
    "#### Check the head of each dataframe"
   ]
  },
  {
   "cell_type": "code",
   "execution_count": 5,
   "metadata": {},
   "outputs": [
    {
     "data": {
      "text/html": [
       "<div>\n",
       "<style scoped>\n",
       "    .dataframe tbody tr th:only-of-type {\n",
       "        vertical-align: middle;\n",
       "    }\n",
       "\n",
       "    .dataframe tbody tr th {\n",
       "        vertical-align: top;\n",
       "    }\n",
       "\n",
       "    .dataframe thead th {\n",
       "        text-align: right;\n",
       "    }\n",
       "</style>\n",
       "<table border=\"1\" class=\"dataframe\">\n",
       "  <thead>\n",
       "    <tr style=\"text-align: right;\">\n",
       "      <th></th>\n",
       "      <th>Annotation</th>\n",
       "      <th>contributors</th>\n",
       "      <th>coordinates</th>\n",
       "      <th>coordinates.coordinates</th>\n",
       "      <th>coordinates.type</th>\n",
       "      <th>created_at</th>\n",
       "      <th>entities.hashtags</th>\n",
       "      <th>entities.media</th>\n",
       "      <th>entities.symbols</th>\n",
       "      <th>entities.urls</th>\n",
       "      <th>...</th>\n",
       "      <th>user.profile_sidebar_fill_color</th>\n",
       "      <th>user.profile_text_color</th>\n",
       "      <th>user.profile_use_background_image</th>\n",
       "      <th>user.protected</th>\n",
       "      <th>user.screen_name</th>\n",
       "      <th>user.statuses_count</th>\n",
       "      <th>user.time_zone</th>\n",
       "      <th>user.url</th>\n",
       "      <th>user.utc_offset</th>\n",
       "      <th>user.verified</th>\n",
       "    </tr>\n",
       "  </thead>\n",
       "  <tbody>\n",
       "    <tr>\n",
       "      <th>0</th>\n",
       "      <td>sexism</td>\n",
       "      <td>None</td>\n",
       "      <td>NaN</td>\n",
       "      <td>NaN</td>\n",
       "      <td>NaN</td>\n",
       "      <td>Mon Mar 02 10:41:54 +0000 2015</td>\n",
       "      <td>[{'indices': [24, 28], 'text': 'MKR'}, {'indic...</td>\n",
       "      <td>NaN</td>\n",
       "      <td>[]</td>\n",
       "      <td>[]</td>\n",
       "      <td>...</td>\n",
       "      <td>FC883B</td>\n",
       "      <td>FD6D4B</td>\n",
       "      <td>True</td>\n",
       "      <td>False</td>\n",
       "      <td>hermosavogue_</td>\n",
       "      <td>4720</td>\n",
       "      <td>Brisbane</td>\n",
       "      <td>https://t.co/0uhcZncwmq</td>\n",
       "      <td>36000.0</td>\n",
       "      <td>False</td>\n",
       "    </tr>\n",
       "    <tr>\n",
       "      <th>1</th>\n",
       "      <td>sexism</td>\n",
       "      <td>None</td>\n",
       "      <td>NaN</td>\n",
       "      <td>NaN</td>\n",
       "      <td>NaN</td>\n",
       "      <td>Mon Mar 02 10:50:18 +0000 2015</td>\n",
       "      <td>[{'indices': [0, 14], 'text': 'katieandnikki'}...</td>\n",
       "      <td>NaN</td>\n",
       "      <td>[]</td>\n",
       "      <td>[]</td>\n",
       "      <td>...</td>\n",
       "      <td>DDEEF6</td>\n",
       "      <td>333333</td>\n",
       "      <td>True</td>\n",
       "      <td>False</td>\n",
       "      <td>Mythri89</td>\n",
       "      <td>9281</td>\n",
       "      <td>Brisbane</td>\n",
       "      <td>None</td>\n",
       "      <td>36000.0</td>\n",
       "      <td>False</td>\n",
       "    </tr>\n",
       "    <tr>\n",
       "      <th>2</th>\n",
       "      <td>sexism</td>\n",
       "      <td>None</td>\n",
       "      <td>NaN</td>\n",
       "      <td>NaN</td>\n",
       "      <td>NaN</td>\n",
       "      <td>Mon Mar 02 10:49:56 +0000 2015</td>\n",
       "      <td>[{'indices': [87, 91], 'text': 'MKR'}]</td>\n",
       "      <td>NaN</td>\n",
       "      <td>[]</td>\n",
       "      <td>[]</td>\n",
       "      <td>...</td>\n",
       "      <td>DDEEF6</td>\n",
       "      <td>333333</td>\n",
       "      <td>True</td>\n",
       "      <td>False</td>\n",
       "      <td>midnight_show</td>\n",
       "      <td>3165</td>\n",
       "      <td>Brisbane</td>\n",
       "      <td>None</td>\n",
       "      <td>36000.0</td>\n",
       "      <td>False</td>\n",
       "    </tr>\n",
       "    <tr>\n",
       "      <th>3</th>\n",
       "      <td>sexism</td>\n",
       "      <td>None</td>\n",
       "      <td>NaN</td>\n",
       "      <td>NaN</td>\n",
       "      <td>NaN</td>\n",
       "      <td>Mon Mar 02 08:55:30 +0000 2015</td>\n",
       "      <td>[{'indices': [127, 131], 'text': 'MKR'}]</td>\n",
       "      <td>NaN</td>\n",
       "      <td>[]</td>\n",
       "      <td>[]</td>\n",
       "      <td>...</td>\n",
       "      <td>DDEEF6</td>\n",
       "      <td>333333</td>\n",
       "      <td>True</td>\n",
       "      <td>False</td>\n",
       "      <td>colonelkickhead</td>\n",
       "      <td>14893</td>\n",
       "      <td>New Caledonia</td>\n",
       "      <td>None</td>\n",
       "      <td>39600.0</td>\n",
       "      <td>False</td>\n",
       "    </tr>\n",
       "    <tr>\n",
       "      <th>4</th>\n",
       "      <td>sexism</td>\n",
       "      <td>None</td>\n",
       "      <td>NaN</td>\n",
       "      <td>NaN</td>\n",
       "      <td>NaN</td>\n",
       "      <td>Mon Mar 02 10:48:54 +0000 2015</td>\n",
       "      <td>[{'indices': [68, 72], 'text': 'MKR'}]</td>\n",
       "      <td>NaN</td>\n",
       "      <td>[]</td>\n",
       "      <td>[]</td>\n",
       "      <td>...</td>\n",
       "      <td>DDEEF6</td>\n",
       "      <td>333333</td>\n",
       "      <td>True</td>\n",
       "      <td>False</td>\n",
       "      <td>lilbeastunleash</td>\n",
       "      <td>1474</td>\n",
       "      <td>None</td>\n",
       "      <td>None</td>\n",
       "      <td>NaN</td>\n",
       "      <td>False</td>\n",
       "    </tr>\n",
       "  </tbody>\n",
       "</table>\n",
       "<p>5 rows × 240 columns</p>\n",
       "</div>"
      ],
      "text/plain": [
       "  Annotation contributors  coordinates coordinates.coordinates  \\\n",
       "0     sexism         None          NaN                     NaN   \n",
       "1     sexism         None          NaN                     NaN   \n",
       "2     sexism         None          NaN                     NaN   \n",
       "3     sexism         None          NaN                     NaN   \n",
       "4     sexism         None          NaN                     NaN   \n",
       "\n",
       "  coordinates.type                      created_at  \\\n",
       "0              NaN  Mon Mar 02 10:41:54 +0000 2015   \n",
       "1              NaN  Mon Mar 02 10:50:18 +0000 2015   \n",
       "2              NaN  Mon Mar 02 10:49:56 +0000 2015   \n",
       "3              NaN  Mon Mar 02 08:55:30 +0000 2015   \n",
       "4              NaN  Mon Mar 02 10:48:54 +0000 2015   \n",
       "\n",
       "                                   entities.hashtags entities.media  \\\n",
       "0  [{'indices': [24, 28], 'text': 'MKR'}, {'indic...            NaN   \n",
       "1  [{'indices': [0, 14], 'text': 'katieandnikki'}...            NaN   \n",
       "2             [{'indices': [87, 91], 'text': 'MKR'}]            NaN   \n",
       "3           [{'indices': [127, 131], 'text': 'MKR'}]            NaN   \n",
       "4             [{'indices': [68, 72], 'text': 'MKR'}]            NaN   \n",
       "\n",
       "  entities.symbols entities.urls      ...       \\\n",
       "0               []            []      ...        \n",
       "1               []            []      ...        \n",
       "2               []            []      ...        \n",
       "3               []            []      ...        \n",
       "4               []            []      ...        \n",
       "\n",
       "  user.profile_sidebar_fill_color user.profile_text_color  \\\n",
       "0                          FC883B                  FD6D4B   \n",
       "1                          DDEEF6                  333333   \n",
       "2                          DDEEF6                  333333   \n",
       "3                          DDEEF6                  333333   \n",
       "4                          DDEEF6                  333333   \n",
       "\n",
       "   user.profile_use_background_image  user.protected  user.screen_name  \\\n",
       "0                               True           False     hermosavogue_   \n",
       "1                               True           False          Mythri89   \n",
       "2                               True           False     midnight_show   \n",
       "3                               True           False   colonelkickhead   \n",
       "4                               True           False   lilbeastunleash   \n",
       "\n",
       "  user.statuses_count user.time_zone                 user.url user.utc_offset  \\\n",
       "0                4720       Brisbane  https://t.co/0uhcZncwmq         36000.0   \n",
       "1                9281       Brisbane                     None         36000.0   \n",
       "2                3165       Brisbane                     None         36000.0   \n",
       "3               14893  New Caledonia                     None         39600.0   \n",
       "4                1474           None                     None             NaN   \n",
       "\n",
       "  user.verified  \n",
       "0         False  \n",
       "1         False  \n",
       "2         False  \n",
       "3         False  \n",
       "4         False  \n",
       "\n",
       "[5 rows x 240 columns]"
      ]
     },
     "execution_count": 5,
     "metadata": {},
     "output_type": "execute_result"
    }
   ],
   "source": [
    "# show first 5 lines of sf\n",
    "sf.head()"
   ]
  },
  {
   "cell_type": "code",
   "execution_count": 6,
   "metadata": {},
   "outputs": [
    {
     "data": {
      "text/html": [
       "<div>\n",
       "<style scoped>\n",
       "    .dataframe tbody tr th:only-of-type {\n",
       "        vertical-align: middle;\n",
       "    }\n",
       "\n",
       "    .dataframe tbody tr th {\n",
       "        vertical-align: top;\n",
       "    }\n",
       "\n",
       "    .dataframe thead th {\n",
       "        text-align: right;\n",
       "    }\n",
       "</style>\n",
       "<table border=\"1\" class=\"dataframe\">\n",
       "  <thead>\n",
       "    <tr style=\"text-align: right;\">\n",
       "      <th></th>\n",
       "      <th>Annotation</th>\n",
       "      <th>contributors</th>\n",
       "      <th>coordinates</th>\n",
       "      <th>coordinates.coordinates</th>\n",
       "      <th>coordinates.type</th>\n",
       "      <th>created_at</th>\n",
       "      <th>entities.hashtags</th>\n",
       "      <th>entities.media</th>\n",
       "      <th>entities.symbols</th>\n",
       "      <th>entities.urls</th>\n",
       "      <th>...</th>\n",
       "      <th>user.profile_text_color</th>\n",
       "      <th>user.profile_use_background_image</th>\n",
       "      <th>user.protected</th>\n",
       "      <th>user.screen_name</th>\n",
       "      <th>user.statuses_count</th>\n",
       "      <th>user.time_zone</th>\n",
       "      <th>user.url</th>\n",
       "      <th>user.utc_offset</th>\n",
       "      <th>user.verified</th>\n",
       "      <th>withheld_in_countries</th>\n",
       "    </tr>\n",
       "  </thead>\n",
       "  <tbody>\n",
       "    <tr>\n",
       "      <th>0</th>\n",
       "      <td>racism</td>\n",
       "      <td>None</td>\n",
       "      <td>NaN</td>\n",
       "      <td>NaN</td>\n",
       "      <td>NaN</td>\n",
       "      <td>Mon Mar 02 10:29:34 +0000 2015</td>\n",
       "      <td>[{'indices': [96, 100], 'text': 'MKR'}]</td>\n",
       "      <td>NaN</td>\n",
       "      <td>[]</td>\n",
       "      <td>[]</td>\n",
       "      <td>...</td>\n",
       "      <td>333333</td>\n",
       "      <td>True</td>\n",
       "      <td>False</td>\n",
       "      <td>thefoxbandit</td>\n",
       "      <td>23</td>\n",
       "      <td>None</td>\n",
       "      <td>None</td>\n",
       "      <td>NaN</td>\n",
       "      <td>False</td>\n",
       "      <td>NaN</td>\n",
       "    </tr>\n",
       "    <tr>\n",
       "      <th>1</th>\n",
       "      <td>racism</td>\n",
       "      <td>None</td>\n",
       "      <td>NaN</td>\n",
       "      <td>[153.37975174, -28.07334137]</td>\n",
       "      <td>Point</td>\n",
       "      <td>Mon Mar 02 10:23:41 +0000 2015</td>\n",
       "      <td>[{'indices': [46, 50], 'text': 'mkr'}]</td>\n",
       "      <td>NaN</td>\n",
       "      <td>[]</td>\n",
       "      <td>[]</td>\n",
       "      <td>...</td>\n",
       "      <td>333333</td>\n",
       "      <td>True</td>\n",
       "      <td>False</td>\n",
       "      <td>trish2295</td>\n",
       "      <td>180</td>\n",
       "      <td>None</td>\n",
       "      <td>None</td>\n",
       "      <td>NaN</td>\n",
       "      <td>False</td>\n",
       "      <td>NaN</td>\n",
       "    </tr>\n",
       "    <tr>\n",
       "      <th>2</th>\n",
       "      <td>racism</td>\n",
       "      <td>None</td>\n",
       "      <td>NaN</td>\n",
       "      <td>NaN</td>\n",
       "      <td>NaN</td>\n",
       "      <td>Mon Mar 02 10:19:37 +0000 2015</td>\n",
       "      <td>[{'indices': [49, 53], 'text': 'MKR'}]</td>\n",
       "      <td>NaN</td>\n",
       "      <td>[]</td>\n",
       "      <td>[]</td>\n",
       "      <td>...</td>\n",
       "      <td>222222</td>\n",
       "      <td>True</td>\n",
       "      <td>False</td>\n",
       "      <td>foodbling</td>\n",
       "      <td>20832</td>\n",
       "      <td>Brisbane</td>\n",
       "      <td>https://t.co/r5Zmh0Ek1u</td>\n",
       "      <td>36000.0</td>\n",
       "      <td>False</td>\n",
       "      <td>NaN</td>\n",
       "    </tr>\n",
       "    <tr>\n",
       "      <th>3</th>\n",
       "      <td>racism</td>\n",
       "      <td>None</td>\n",
       "      <td>NaN</td>\n",
       "      <td>NaN</td>\n",
       "      <td>NaN</td>\n",
       "      <td>Mon Mar 02 09:56:43 +0000 2015</td>\n",
       "      <td>[{'indices': [71, 75], 'text': 'MKR'}]</td>\n",
       "      <td>NaN</td>\n",
       "      <td>[]</td>\n",
       "      <td>[]</td>\n",
       "      <td>...</td>\n",
       "      <td>333333</td>\n",
       "      <td>True</td>\n",
       "      <td>False</td>\n",
       "      <td>lilbeastunleash</td>\n",
       "      <td>1474</td>\n",
       "      <td>None</td>\n",
       "      <td>None</td>\n",
       "      <td>NaN</td>\n",
       "      <td>False</td>\n",
       "      <td>NaN</td>\n",
       "    </tr>\n",
       "    <tr>\n",
       "      <th>4</th>\n",
       "      <td>racism</td>\n",
       "      <td>None</td>\n",
       "      <td>NaN</td>\n",
       "      <td>NaN</td>\n",
       "      <td>NaN</td>\n",
       "      <td>Mon Mar 02 09:48:33 +0000 2015</td>\n",
       "      <td>[{'indices': [95, 99], 'text': 'MKR'}]</td>\n",
       "      <td>NaN</td>\n",
       "      <td>[]</td>\n",
       "      <td>[]</td>\n",
       "      <td>...</td>\n",
       "      <td>0C3E53</td>\n",
       "      <td>True</td>\n",
       "      <td>False</td>\n",
       "      <td>JL_Whitaker</td>\n",
       "      <td>37343</td>\n",
       "      <td>None</td>\n",
       "      <td>http://t.co/ZLC2pgfiKe</td>\n",
       "      <td>NaN</td>\n",
       "      <td>False</td>\n",
       "      <td>NaN</td>\n",
       "    </tr>\n",
       "  </tbody>\n",
       "</table>\n",
       "<p>5 rows × 237 columns</p>\n",
       "</div>"
      ],
      "text/plain": [
       "  Annotation contributors  coordinates       coordinates.coordinates  \\\n",
       "0     racism         None          NaN                           NaN   \n",
       "1     racism         None          NaN  [153.37975174, -28.07334137]   \n",
       "2     racism         None          NaN                           NaN   \n",
       "3     racism         None          NaN                           NaN   \n",
       "4     racism         None          NaN                           NaN   \n",
       "\n",
       "  coordinates.type                      created_at  \\\n",
       "0              NaN  Mon Mar 02 10:29:34 +0000 2015   \n",
       "1            Point  Mon Mar 02 10:23:41 +0000 2015   \n",
       "2              NaN  Mon Mar 02 10:19:37 +0000 2015   \n",
       "3              NaN  Mon Mar 02 09:56:43 +0000 2015   \n",
       "4              NaN  Mon Mar 02 09:48:33 +0000 2015   \n",
       "\n",
       "                         entities.hashtags entities.media entities.symbols  \\\n",
       "0  [{'indices': [96, 100], 'text': 'MKR'}]            NaN               []   \n",
       "1   [{'indices': [46, 50], 'text': 'mkr'}]            NaN               []   \n",
       "2   [{'indices': [49, 53], 'text': 'MKR'}]            NaN               []   \n",
       "3   [{'indices': [71, 75], 'text': 'MKR'}]            NaN               []   \n",
       "4   [{'indices': [95, 99], 'text': 'MKR'}]            NaN               []   \n",
       "\n",
       "  entities.urls          ...          user.profile_text_color  \\\n",
       "0            []          ...                           333333   \n",
       "1            []          ...                           333333   \n",
       "2            []          ...                           222222   \n",
       "3            []          ...                           333333   \n",
       "4            []          ...                           0C3E53   \n",
       "\n",
       "  user.profile_use_background_image  user.protected  user.screen_name  \\\n",
       "0                              True           False      thefoxbandit   \n",
       "1                              True           False         trish2295   \n",
       "2                              True           False         foodbling   \n",
       "3                              True           False   lilbeastunleash   \n",
       "4                              True           False       JL_Whitaker   \n",
       "\n",
       "   user.statuses_count user.time_zone                 user.url  \\\n",
       "0                   23           None                     None   \n",
       "1                  180           None                     None   \n",
       "2                20832       Brisbane  https://t.co/r5Zmh0Ek1u   \n",
       "3                 1474           None                     None   \n",
       "4                37343           None   http://t.co/ZLC2pgfiKe   \n",
       "\n",
       "   user.utc_offset user.verified withheld_in_countries  \n",
       "0              NaN         False                   NaN  \n",
       "1              NaN         False                   NaN  \n",
       "2          36000.0         False                   NaN  \n",
       "3              NaN         False                   NaN  \n",
       "4              NaN         False                   NaN  \n",
       "\n",
       "[5 rows x 237 columns]"
      ]
     },
     "execution_count": 6,
     "metadata": {},
     "output_type": "execute_result"
    }
   ],
   "source": [
    "# show first 5 lines of rf\n",
    "rf.head()"
   ]
  },
  {
   "cell_type": "code",
   "execution_count": 7,
   "metadata": {},
   "outputs": [
    {
     "data": {
      "text/html": [
       "<div>\n",
       "<style scoped>\n",
       "    .dataframe tbody tr th:only-of-type {\n",
       "        vertical-align: middle;\n",
       "    }\n",
       "\n",
       "    .dataframe tbody tr th {\n",
       "        vertical-align: top;\n",
       "    }\n",
       "\n",
       "    .dataframe thead th {\n",
       "        text-align: right;\n",
       "    }\n",
       "</style>\n",
       "<table border=\"1\" class=\"dataframe\">\n",
       "  <thead>\n",
       "    <tr style=\"text-align: right;\">\n",
       "      <th></th>\n",
       "      <th>Annotation</th>\n",
       "      <th>contributors</th>\n",
       "      <th>coordinates</th>\n",
       "      <th>coordinates.coordinates</th>\n",
       "      <th>coordinates.type</th>\n",
       "      <th>created_at</th>\n",
       "      <th>entities.hashtags</th>\n",
       "      <th>entities.media</th>\n",
       "      <th>entities.symbols</th>\n",
       "      <th>entities.urls</th>\n",
       "      <th>...</th>\n",
       "      <th>user.profile_text_color</th>\n",
       "      <th>user.profile_use_background_image</th>\n",
       "      <th>user.protected</th>\n",
       "      <th>user.screen_name</th>\n",
       "      <th>user.statuses_count</th>\n",
       "      <th>user.time_zone</th>\n",
       "      <th>user.url</th>\n",
       "      <th>user.utc_offset</th>\n",
       "      <th>user.verified</th>\n",
       "      <th>withheld_in_countries</th>\n",
       "    </tr>\n",
       "  </thead>\n",
       "  <tbody>\n",
       "    <tr>\n",
       "      <th>0</th>\n",
       "      <td>none</td>\n",
       "      <td>None</td>\n",
       "      <td>NaN</td>\n",
       "      <td>NaN</td>\n",
       "      <td>NaN</td>\n",
       "      <td>Mon Mar 02 10:47:12 +0000 2015</td>\n",
       "      <td>[{'text': 'mkr', 'indices': [22, 26]}]</td>\n",
       "      <td>NaN</td>\n",
       "      <td>[]</td>\n",
       "      <td>[]</td>\n",
       "      <td>...</td>\n",
       "      <td>333333</td>\n",
       "      <td>True</td>\n",
       "      <td>False</td>\n",
       "      <td>sales88194029</td>\n",
       "      <td>938</td>\n",
       "      <td>None</td>\n",
       "      <td>None</td>\n",
       "      <td>NaN</td>\n",
       "      <td>False</td>\n",
       "      <td>NaN</td>\n",
       "    </tr>\n",
       "    <tr>\n",
       "      <th>1</th>\n",
       "      <td>none</td>\n",
       "      <td>None</td>\n",
       "      <td>NaN</td>\n",
       "      <td>NaN</td>\n",
       "      <td>NaN</td>\n",
       "      <td>Mon Mar 02 10:51:11 +0000 2015</td>\n",
       "      <td>[{'text': 'MKR', 'indices': [36, 40]}]</td>\n",
       "      <td>NaN</td>\n",
       "      <td>[]</td>\n",
       "      <td>[]</td>\n",
       "      <td>...</td>\n",
       "      <td>4C52C7</td>\n",
       "      <td>True</td>\n",
       "      <td>False</td>\n",
       "      <td>KrapmatiK</td>\n",
       "      <td>162020</td>\n",
       "      <td>Hawaii</td>\n",
       "      <td>None</td>\n",
       "      <td>-36000.0</td>\n",
       "      <td>False</td>\n",
       "      <td>NaN</td>\n",
       "    </tr>\n",
       "    <tr>\n",
       "      <th>2</th>\n",
       "      <td>none</td>\n",
       "      <td>None</td>\n",
       "      <td>NaN</td>\n",
       "      <td>NaN</td>\n",
       "      <td>NaN</td>\n",
       "      <td>Mon Mar 02 10:51:01 +0000 2015</td>\n",
       "      <td>[{'text': 'MKR', 'indices': [0, 4]}, {'text': ...</td>\n",
       "      <td>NaN</td>\n",
       "      <td>[]</td>\n",
       "      <td>[]</td>\n",
       "      <td>...</td>\n",
       "      <td>333333</td>\n",
       "      <td>True</td>\n",
       "      <td>False</td>\n",
       "      <td>Drakahris95</td>\n",
       "      <td>1229</td>\n",
       "      <td>None</td>\n",
       "      <td>https://t.co/x72nz11IFn</td>\n",
       "      <td>NaN</td>\n",
       "      <td>False</td>\n",
       "      <td>NaN</td>\n",
       "    </tr>\n",
       "    <tr>\n",
       "      <th>3</th>\n",
       "      <td>none</td>\n",
       "      <td>None</td>\n",
       "      <td>NaN</td>\n",
       "      <td>NaN</td>\n",
       "      <td>NaN</td>\n",
       "      <td>Mon Mar 02 09:10:18 +0000 2015</td>\n",
       "      <td>[{'text': 'MKR', 'indices': [83, 87]}]</td>\n",
       "      <td>NaN</td>\n",
       "      <td>[]</td>\n",
       "      <td>[]</td>\n",
       "      <td>...</td>\n",
       "      <td>333333</td>\n",
       "      <td>True</td>\n",
       "      <td>False</td>\n",
       "      <td>colonelkickhead</td>\n",
       "      <td>14893</td>\n",
       "      <td>New Caledonia</td>\n",
       "      <td>None</td>\n",
       "      <td>39600.0</td>\n",
       "      <td>False</td>\n",
       "      <td>NaN</td>\n",
       "    </tr>\n",
       "    <tr>\n",
       "      <th>4</th>\n",
       "      <td>none</td>\n",
       "      <td>None</td>\n",
       "      <td>NaN</td>\n",
       "      <td>NaN</td>\n",
       "      <td>NaN</td>\n",
       "      <td>Mon Mar 02 10:49:55 +0000 2015</td>\n",
       "      <td>[{'text': 'mkr', 'indices': [109, 113]}]</td>\n",
       "      <td>NaN</td>\n",
       "      <td>[]</td>\n",
       "      <td>[]</td>\n",
       "      <td>...</td>\n",
       "      <td>333333</td>\n",
       "      <td>True</td>\n",
       "      <td>False</td>\n",
       "      <td>ScheherazadeM</td>\n",
       "      <td>587</td>\n",
       "      <td>Brisbane</td>\n",
       "      <td>None</td>\n",
       "      <td>36000.0</td>\n",
       "      <td>False</td>\n",
       "      <td>NaN</td>\n",
       "    </tr>\n",
       "  </tbody>\n",
       "</table>\n",
       "<p>5 rows × 333 columns</p>\n",
       "</div>"
      ],
      "text/plain": [
       "  Annotation contributors  coordinates coordinates.coordinates  \\\n",
       "0       none         None          NaN                     NaN   \n",
       "1       none         None          NaN                     NaN   \n",
       "2       none         None          NaN                     NaN   \n",
       "3       none         None          NaN                     NaN   \n",
       "4       none         None          NaN                     NaN   \n",
       "\n",
       "  coordinates.type                      created_at  \\\n",
       "0              NaN  Mon Mar 02 10:47:12 +0000 2015   \n",
       "1              NaN  Mon Mar 02 10:51:11 +0000 2015   \n",
       "2              NaN  Mon Mar 02 10:51:01 +0000 2015   \n",
       "3              NaN  Mon Mar 02 09:10:18 +0000 2015   \n",
       "4              NaN  Mon Mar 02 10:49:55 +0000 2015   \n",
       "\n",
       "                                   entities.hashtags entities.media  \\\n",
       "0             [{'text': 'mkr', 'indices': [22, 26]}]            NaN   \n",
       "1             [{'text': 'MKR', 'indices': [36, 40]}]            NaN   \n",
       "2  [{'text': 'MKR', 'indices': [0, 4]}, {'text': ...            NaN   \n",
       "3             [{'text': 'MKR', 'indices': [83, 87]}]            NaN   \n",
       "4           [{'text': 'mkr', 'indices': [109, 113]}]            NaN   \n",
       "\n",
       "  entities.symbols entities.urls          ...           \\\n",
       "0               []            []          ...            \n",
       "1               []            []          ...            \n",
       "2               []            []          ...            \n",
       "3               []            []          ...            \n",
       "4               []            []          ...            \n",
       "\n",
       "  user.profile_text_color user.profile_use_background_image  user.protected  \\\n",
       "0                  333333                              True           False   \n",
       "1                  4C52C7                              True           False   \n",
       "2                  333333                              True           False   \n",
       "3                  333333                              True           False   \n",
       "4                  333333                              True           False   \n",
       "\n",
       "   user.screen_name  user.statuses_count user.time_zone  \\\n",
       "0     sales88194029                  938           None   \n",
       "1         KrapmatiK               162020         Hawaii   \n",
       "2       Drakahris95                 1229           None   \n",
       "3   colonelkickhead                14893  New Caledonia   \n",
       "4     ScheherazadeM                  587       Brisbane   \n",
       "\n",
       "                  user.url  user.utc_offset user.verified  \\\n",
       "0                     None              NaN         False   \n",
       "1                     None         -36000.0         False   \n",
       "2  https://t.co/x72nz11IFn              NaN         False   \n",
       "3                     None          39600.0         False   \n",
       "4                     None          36000.0         False   \n",
       "\n",
       "  withheld_in_countries  \n",
       "0                   NaN  \n",
       "1                   NaN  \n",
       "2                   NaN  \n",
       "3                   NaN  \n",
       "4                   NaN  \n",
       "\n",
       "[5 rows x 333 columns]"
      ]
     },
     "execution_count": 7,
     "metadata": {},
     "output_type": "execute_result"
    }
   ],
   "source": [
    "# show first 5 lines of nf\n",
    "nf.head()"
   ]
  },
  {
   "cell_type": "markdown",
   "metadata": {},
   "source": [
    "#### Checking total records/number of tweets in each dataset file"
   ]
  },
  {
   "cell_type": "code",
   "execution_count": 8,
   "metadata": {},
   "outputs": [
    {
     "name": "stdout",
     "output_type": "stream",
     "text": [
      "Number of Tweets in sexism.json = 3430\n",
      "Number of Tweets in racism.json = 1976\n",
      "Number of Tweets in neither.json = 11501\n"
     ]
    }
   ],
   "source": [
    "# checking the length / number of rows in each dataset that has been loaded up\n",
    "# sf = sexism.json\n",
    "# rf = racism.json\n",
    "# nf = neither.json\n",
    "print(\"Number of Tweets in sexism.json = \" + str(len(sf)))\n",
    "print(\"Number of Tweets in racism.json = \" + str(len(rf)))\n",
    "print(\"Number of Tweets in neither.json = \" + str(len(nf)))"
   ]
  },
  {
   "cell_type": "code",
   "execution_count": 9,
   "metadata": {},
   "outputs": [
    {
     "data": {
      "text/plain": [
       "0                These two are revolting #MKR #MKR2015\n",
       "1    #katieandnikki stop calling yourselves pretty ...\n",
       "2    If @Channel7 keep these girls in the comp, whi...\n",
       "3    The menus look like they were made by a 5 year...\n",
       "4    Wish these blondes were in that How To Get Awa...\n",
       "Name: text, dtype: object"
      ]
     },
     "execution_count": 9,
     "metadata": {},
     "output_type": "execute_result"
    }
   ],
   "source": [
    "sf['text'].head()"
   ]
  },
  {
   "cell_type": "code",
   "execution_count": 10,
   "metadata": {},
   "outputs": [
    {
     "data": {
      "text/plain": [
       "16907"
      ]
     },
     "execution_count": 10,
     "metadata": {},
     "output_type": "execute_result"
    }
   ],
   "source": [
    "# create new dataframes raw_text, from source files/dataframes with 2 columns, text and 'abusive_flag'\n",
    "# abusive_flag will by 1 (yes, abusive text) for both SF sourced data and RF sourced data, for NF it will be 0\n",
    "# and finally concatenate all 3 into one dataframe, raw_text, to then be used for modelling.\n",
    "raw_text_sf = pd.DataFrame()\n",
    "raw_text_nf = pd.DataFrame()\n",
    "raw_text_rf = pd.DataFrame()\n",
    "\n",
    "raw_text_sf = sf.loc[:,['text']]\n",
    "raw_text_sf.loc[:,'abusive_flag']=1\n",
    "\n",
    "raw_text_rf = rf.loc[:,['text']]\n",
    "raw_text_rf.loc[:,'abusive_flag']=2\n",
    "\n",
    "raw_text_nf = nf.loc[:,['text']]\n",
    "raw_text_nf.loc[:,'abusive_flag']=0\n",
    "\n",
    "raw_text = pd.concat([raw_text_sf,raw_text_rf,raw_text_nf])\n",
    "raw_text.shape[0]"
   ]
  },
  {
   "cell_type": "code",
   "execution_count": 11,
   "metadata": {},
   "outputs": [
    {
     "data": {
      "text/plain": [
       "0    11501\n",
       "1     3430\n",
       "2     1976\n",
       "Name: abusive_flag, dtype: int64"
      ]
     },
     "execution_count": 11,
     "metadata": {},
     "output_type": "execute_result"
    }
   ],
   "source": [
    "raw_text['abusive_flag'].value_counts()"
   ]
  },
  {
   "cell_type": "code",
   "execution_count": 12,
   "metadata": {},
   "outputs": [
    {
     "data": {
      "text/html": [
       "<div>\n",
       "<style scoped>\n",
       "    .dataframe tbody tr th:only-of-type {\n",
       "        vertical-align: middle;\n",
       "    }\n",
       "\n",
       "    .dataframe tbody tr th {\n",
       "        vertical-align: top;\n",
       "    }\n",
       "\n",
       "    .dataframe thead th {\n",
       "        text-align: right;\n",
       "    }\n",
       "</style>\n",
       "<table border=\"1\" class=\"dataframe\">\n",
       "  <thead>\n",
       "    <tr style=\"text-align: right;\">\n",
       "      <th></th>\n",
       "      <th>text</th>\n",
       "      <th>abusive_flag</th>\n",
       "    </tr>\n",
       "  </thead>\n",
       "  <tbody>\n",
       "    <tr>\n",
       "      <th>0</th>\n",
       "      <td>these two are revolting #mkr #mkr2015</td>\n",
       "      <td>1</td>\n",
       "    </tr>\n",
       "    <tr>\n",
       "      <th>1</th>\n",
       "      <td>#katieandnikki stop calling yourselves pretty ...</td>\n",
       "      <td>1</td>\n",
       "    </tr>\n",
       "    <tr>\n",
       "      <th>2</th>\n",
       "      <td>if @channel7 keep these girls in the comp, whi...</td>\n",
       "      <td>1</td>\n",
       "    </tr>\n",
       "    <tr>\n",
       "      <th>3</th>\n",
       "      <td>the menus look like they were made by a 5 year...</td>\n",
       "      <td>1</td>\n",
       "    </tr>\n",
       "    <tr>\n",
       "      <th>4</th>\n",
       "      <td>wish these blondes were in that how to get awa...</td>\n",
       "      <td>1</td>\n",
       "    </tr>\n",
       "  </tbody>\n",
       "</table>\n",
       "</div>"
      ],
      "text/plain": [
       "                                                text  abusive_flag\n",
       "0              these two are revolting #mkr #mkr2015             1\n",
       "1  #katieandnikki stop calling yourselves pretty ...             1\n",
       "2  if @channel7 keep these girls in the comp, whi...             1\n",
       "3  the menus look like they were made by a 5 year...             1\n",
       "4  wish these blondes were in that how to get awa...             1"
      ]
     },
     "execution_count": 12,
     "metadata": {},
     "output_type": "execute_result"
    }
   ],
   "source": [
    "# make the raw_text.text field, lowercase\n",
    "raw_text['text'] = [entry.lower() for entry in raw_text['text']]\n",
    "raw_text.head()"
   ]
  },
  {
   "cell_type": "code",
   "execution_count": null,
   "metadata": {},
   "outputs": [],
   "source": []
  },
  {
   "cell_type": "markdown",
   "metadata": {},
   "source": [
    "### Pre-Processing Data\n",
    "Utilisation of code from part A of assignment, to pre-process the data.\n",
    "- remove stop words (more non-words added, eg. http, rt etc)\n",
    "- stemming\n",
    "- tokenize"
   ]
  },
  {
   "cell_type": "code",
   "execution_count": 13,
   "metadata": {},
   "outputs": [
    {
     "data": {
      "text/plain": [
       "0                                    ['two', 'revolt']\n",
       "1    ['katieandnikki', 'stop', 'call', 'pretti', 'h...\n",
       "2    ['channel', 'keep', 'girl', 'comp', 'suspect',...\n",
       "3    ['menus', 'look', 'like', 'made', 'year', 'old...\n",
       "4    ['wish', 'blond', 'get', 'away', 'murder', 'sh...\n",
       "Name: text_clean, dtype: object"
      ]
     },
     "execution_count": 13,
     "metadata": {},
     "output_type": "execute_result"
    }
   ],
   "source": [
    "# Re-use code from part A of assignment\n",
    "# import Stemmer modules from nltk and regular expressions\n",
    "from nltk.stem import SnowballStemmer\n",
    "from nltk.stem import PorterStemmer\n",
    "tkn = TweetTokenizer(strip_handles=True)\n",
    "words = stopwords.words(\"english\")\n",
    "# adding extra words here to stopwords, ie. http, mkr (which seems to be a twitter hashtag)\n",
    "# also added others ie. \"co\" which perhaps is a result of \n",
    "# some URL's included in tweets ?\n",
    "words.append('mkr')\n",
    "words.append('MKR')\n",
    "words.append('rt')\n",
    "words.append('RT')\n",
    "words.append('http')\n",
    "words.append('co')\n",
    "stemmer = PorterStemmer()\n",
    "stemmer2 = SnowballStemmer('english')\n",
    "raw_text['text_clean']=''\n",
    "# re.sub : regular expression to remove unwanted characters, ie. %, & etc\n",
    "raw_text['text_clean'] = raw_text['text'].apply(lambda x: [\" \".join(tkn.tokenize(i)) for i in re.sub(\"[^a-zA-Z]\", \" \", x).split() if i not in words])\n",
    "raw_text['text_clean'] = raw_text['text_clean'].apply(lambda x: \" \".join([stemmer2.stem(i) for i in x]).lower())\n",
    "raw_text['text_clean'] = raw_text['text_clean'].apply(lambda x: str(word_tokenize(x)))\n",
    "raw_text['text_clean'].head()"
   ]
  },
  {
   "cell_type": "code",
   "execution_count": 14,
   "metadata": {},
   "outputs": [],
   "source": [
    "# set seed for reproducibility\n",
    "np.random.seed(99)"
   ]
  },
  {
   "cell_type": "code",
   "execution_count": 15,
   "metadata": {},
   "outputs": [
    {
     "data": {
      "text/html": [
       "<div>\n",
       "<style scoped>\n",
       "    .dataframe tbody tr th:only-of-type {\n",
       "        vertical-align: middle;\n",
       "    }\n",
       "\n",
       "    .dataframe tbody tr th {\n",
       "        vertical-align: top;\n",
       "    }\n",
       "\n",
       "    .dataframe thead th {\n",
       "        text-align: right;\n",
       "    }\n",
       "</style>\n",
       "<table border=\"1\" class=\"dataframe\">\n",
       "  <thead>\n",
       "    <tr style=\"text-align: right;\">\n",
       "      <th></th>\n",
       "      <th>text</th>\n",
       "      <th>abusive_flag</th>\n",
       "      <th>text_clean</th>\n",
       "    </tr>\n",
       "  </thead>\n",
       "  <tbody>\n",
       "    <tr>\n",
       "      <th>0</th>\n",
       "      <td>these two are revolting #mkr #mkr2015</td>\n",
       "      <td>1</td>\n",
       "      <td>['two', 'revolt']</td>\n",
       "    </tr>\n",
       "    <tr>\n",
       "      <th>1</th>\n",
       "      <td>#katieandnikki stop calling yourselves pretty ...</td>\n",
       "      <td>1</td>\n",
       "      <td>['katieandnikki', 'stop', 'call', 'pretti', 'h...</td>\n",
       "    </tr>\n",
       "    <tr>\n",
       "      <th>2</th>\n",
       "      <td>if @channel7 keep these girls in the comp, whi...</td>\n",
       "      <td>1</td>\n",
       "      <td>['channel', 'keep', 'girl', 'comp', 'suspect',...</td>\n",
       "    </tr>\n",
       "    <tr>\n",
       "      <th>3</th>\n",
       "      <td>the menus look like they were made by a 5 year...</td>\n",
       "      <td>1</td>\n",
       "      <td>['menus', 'look', 'like', 'made', 'year', 'old...</td>\n",
       "    </tr>\n",
       "    <tr>\n",
       "      <th>4</th>\n",
       "      <td>wish these blondes were in that how to get awa...</td>\n",
       "      <td>1</td>\n",
       "      <td>['wish', 'blond', 'get', 'away', 'murder', 'sh...</td>\n",
       "    </tr>\n",
       "  </tbody>\n",
       "</table>\n",
       "</div>"
      ],
      "text/plain": [
       "                                                text  abusive_flag  \\\n",
       "0              these two are revolting #mkr #mkr2015             1   \n",
       "1  #katieandnikki stop calling yourselves pretty ...             1   \n",
       "2  if @channel7 keep these girls in the comp, whi...             1   \n",
       "3  the menus look like they were made by a 5 year...             1   \n",
       "4  wish these blondes were in that how to get awa...             1   \n",
       "\n",
       "                                          text_clean  \n",
       "0                                  ['two', 'revolt']  \n",
       "1  ['katieandnikki', 'stop', 'call', 'pretti', 'h...  \n",
       "2  ['channel', 'keep', 'girl', 'comp', 'suspect',...  \n",
       "3  ['menus', 'look', 'like', 'made', 'year', 'old...  \n",
       "4  ['wish', 'blond', 'get', 'away', 'murder', 'sh...  "
      ]
     },
     "execution_count": 15,
     "metadata": {},
     "output_type": "execute_result"
    }
   ],
   "source": [
    "# reset the index for the raw_text dataframe, this is due it being merged from 3 different dataframes,\n",
    "# so index needs resetting, ie. 0,1,2,3,4,.....\n",
    "raw_text = raw_text.reset_index(drop=True)\n",
    "raw_text.head()"
   ]
  },
  {
   "cell_type": "markdown",
   "metadata": {},
   "source": [
    "#### Train / Test split of data\n",
    "75% / 25%"
   ]
  },
  {
   "cell_type": "code",
   "execution_count": 16,
   "metadata": {},
   "outputs": [],
   "source": [
    "Train_X, Test_X, Train_Y, Test_Y = model_selection.train_test_split(raw_text['text_clean'], \n",
    "                                                                      raw_text['abusive_flag'], test_size=0.25)"
   ]
  },
  {
   "cell_type": "markdown",
   "metadata": {},
   "source": [
    "### Feature Extraction\n",
    "Using Bag of words, and a popular approach known as TF-IDF\n",
    "see https://towardsdatascience.com/machine-learning-text-processing-1d5a2d638958\n",
    "\n",
    "\n",
    "#### Word Vectorization\n",
    "Fo this model, I will use TF-IDF, for word vectorization.\n",
    "\n",
    "TF-IDF = “Term Frequency — Inverse Document Frequency\"\n",
    "\n",
    "- Term Frequency: This summarizes how often a given word appears within a document.\n",
    "- Inverse Document Frequency: This down scales words that appear a lot across documents.\n",
    "\n",
    "The method will fit a TF-IDF model on the whole corpus, and this will help build a vocabulary of words, which it has learnt from the corpus. A unique integer will be assigned to each word in the vocab. There will be a maximum of 5000 words. (max_features = 50000).\n",
    "\n",
    "The Train_X and Test_X datasets are transformed, to the vectorized versions Train_X_Tfidf and Test_X_Tfidf. These will now contain for each row a list of unique integer number and its associated importance as calculated by TF-IDF."
   ]
  },
  {
   "cell_type": "code",
   "execution_count": 17,
   "metadata": {},
   "outputs": [],
   "source": [
    "Tfidf_vect = TfidfVectorizer(max_features=5000)\n",
    "Tfidf_vect.fit(raw_text['text_clean'])\n",
    "Train_X_Tfidf = Tfidf_vect.transform(Train_X)\n",
    "Test_X_Tfidf = Tfidf_vect.transform(Test_X)"
   ]
  },
  {
   "cell_type": "code",
   "execution_count": 18,
   "metadata": {},
   "outputs": [
    {
     "name": "stdout",
     "output_type": "stream",
     "text": [
      "{'two': 4602, 'revolt': 3685, 'katieandnikki': 2428, 'stop': 4214, 'call': 626, 'pretti': 3417, 'hot': 2073, 'say': 3840, 'million': 2837, 'time': 4480, 'make': 2687, 'either': 1356, 'stfu': 4201, 'channel': 716, 'keep': 2434, 'girl': 1820, 'comp': 889, 'suspect': 4300, 'never': 3004, 'watch': 4804, 'rig': 3704, 'look': 2633, 'like': 2594, 'made': 2677, 'year': 4946, 'old': 3120, 'littl': 2613, 'case': 674, 'mental': 2800, 'age': 77, 'guess': 1913, 'wish': 4877, 'blond': 492, 'get': 1804, 'away': 318, 'murder': 2933, 'show': 3982, 'butcher': 610, 'tell': 4394, 'red': 3608, 'cook': 964, 'dumb': 1303, 'mmm': 2867, 'perhap': 3277, 'delus': 1143, 'face': 1519, 'need': 2990, 'pull': 3483, 'mykitchenrul': 2951, 'sassi': 3827, 'food': 1661, 'feel': 1582, 'ol': 3119, 'vile': 4743, 'peopl': 3271, 'killerblond': 2459, 'omg': 3127, 'restaur': 3672, 'room': 3749, 'oh': 3111, 'gosh': 1859, 'think': 4450, 'pro': 3433, 'oop': 3142, 'can': 641, 'not': 3052, 'anyth': 194, 'nice': 3014, 'noth': 3057, 'silenc': 4003, 'deconstruct': 1125, 'tart': 4367, 'joke': 2370, 'last': 2522, 'season': 3874, 'ash': 252, 'found': 1686, 'ewwww': 1472, 'nikki': 3022, 'frog': 1719, 'want': 4784, 'voic': 4759, 'back': 329, 'spatchcock': 4124, 'myallsw': 2948, 'arm': 229, 'pit': 3323, 'vagina': 4699, 'sv': 4303, 'ugli': 4616, 'promo': 3450, 'cat': 678, 'arsehol': 243, 'excit': 1481, 'see': 3882, 'go': 1839, 'tonight': 4508, 'liter': 2611, 'eleg': 1360, 'beauti': 393, 'cheap': 728, 'trashi': 4546, 'unattract': 4635, 'bang': 354, 'hey': 2013, 'sorri': 4109, 'long': 2631, 'way': 4808, 'refin': 3617, 'drasko': 1277, 'mum': 2929, 'pot': 3387, 'especi': 1427, 'drunk': 1294, 'unconsci': 4641, 'melt': 2792, 'didnt': 1191, 'put': 3494, 'serv': 3907, 'skank': 4030, 'brain': 541, 'near': 2983, 'brought': 569, 'dinner': 1204, 'saw': 3839, 'crap': 1009, 'plate': 3337, 'word': 4901, 'former': 1679, 'contest': 952, 'kati': 2427, 'calm': 627, 'farm': 1552, 'dread': 1280, 'black': 466, 'tri': 4556, 'find': 1623, 'someth': 4095, 'idiot': 2130, 'dislik': 1224, 'kat': 2423, 'us': 4681, 'anoth': 183, 'better': 426, 'shit': 3967, 'pleas': 3342, 'let': 2576, 'leftov': 2554, 'dog': 1248, 'would': 4914, 'realli': 3591, 'appreci': 212, 'bitchi': 462, 'whatev': 4838, 'come': 871, 'mine': 2843, 'shame': 3929, 'filter': 1618, 'head': 1979, 'hope': 2062, 'one': 3130, 'bitch': 461, 'fall': 1537, 'break': 546, 'leg': 2555, 'could': 983, 'possibl': 3384, 'model': 2876, 'even': 1453, 'kitchen': 2469, 'rule': 3778, 'without': 4882, 'cring': 1031, 'walk': 4777, 'ridicul': 3703, 'three': 4463, 'chef': 736, 'screen': 3858, 'almost': 127, 'much': 2924, 'bare': 365, 'fourinhand': 1690, 'know': 2479, 'foot': 1664, 'front': 1720, 'fuck': 1727, 'kid': 2455, 'catwalk': 685, 'miss': 2856, 'pole': 3358, 'chloe': 759, 'kelli': 2436, 'serious': 3906, 'hate': 1974, 'arrog': 240, 'actual': 41, 'quit': 3525, 'good': 1852, 'wait': 4775, 'till': 4478, 'shot': 3977, 'hit': 2038, 'fashion': 1557, 'stick': 4202, 'day': 1103, 'job': 2362, 'obvious': 3097, 'natur': 2971, 'jus': 2404, 'gon': 1850, 'na': 2954, 'full': 1732, 'leav': 2548, 'team': 4381, 'coupl': 990, 'hahaha': 1935, 'poor': 3370, 'husband': 2108, 'lloyd': 2616, 'wtf': 4925, 'use': 4685, 'bought': 527, 'sorbet': 4107, 'disqualifi': 1228, 'drama': 1274, 'chick': 744, 'gold': 1848, 'lose': 2637, 'killer': 2458, 'hash': 1971, 'tag': 4344, 'shut': 3989, 'anyon': 193, 'els': 1366, 'notic': 3058, 'dish': 1223, 'base': 367, 'slut': 4056, 'sausag': 3836, 'cock': 836, 'wear': 4817, 'blue': 498, 'honey': 2058, 'feed': 1580, 'ego': 1352, 'great': 1881, 'read': 3583, 'switch': 4317, 'everyon': 1461, 'estim': 1434, 'umm': 4627, 'came': 629, 'second': 3875, 'surviv': 4298, 'win': 4867, 'god': 1843, 'write': 4920, 'pair': 3197, 'worst': 4910, 'thing': 4449, 'ever': 1456, 'tv': 4587, 'histori': 2035, 'nsw': 3071, 'learn': 2546, 'pride': 3422, 'alway': 135, 'construct': 947, 'person': 3284, 'take': 4347, 'poster': 3386, 'children': 754, 'oblivi': 3093, 'mediocr': 2783, 'open': 3144, 'remind': 3643, 'kim': 2460, 'kardashian': 2419, 'marriag': 2725, 'stretch': 4234, 'bot': 523, 'kind': 2461, 'ask': 260, 'cheaper': 729, 'skittl': 4036, 'bomb': 510, 'bring': 558, 'tabl': 4338, 'averag': 313, 'newideamagazin': 3007, 'said': 3799, 'seen': 3885, 'women': 4895, 'right': 3705, 'definit': 1134, 'prove': 3468, 'wow': 4915, 'step': 4193, 'game': 1752, 'microwav': 2824, 'couscous': 994, 'massiv': 2735, 'skill': 4032, 'respons': 3668, 'convinc': 962, 'gawd': 1773, 'line': 2601, 'mt': 2923, 'next': 3011, 'top': 4511, 'episod': 1411, 'skin': 4033, 'crawl': 1013, 'mani': 2697, 'ticket': 4472, 'ugh': 4614, 'bore': 519, 'spread': 4153, 'dna': 1243, 'unhygien': 4652, 'gross': 1898, 'mention': 2801, 'super': 4284, 'consid': 942, 'well': 4830, 'yes': 4950, 'tone': 4506, 'self': 3888, 'hear': 1983, 'mayb': 2756, 'cut': 1061, 'cow': 996, 'pig': 3316, 'wors': 4908, 'raw': 3571, 'em': 1368, 'bad': 334, 'main': 2684, 'cours': 991, 'vacuous': 4698, 'narcissist': 2964, 'makeup': 2689, 'amp': 151, 'name': 2962, 'annoy': 179, 'suck': 4258, 'colin': 848, 'delusion': 1144, 'vomit': 4764, 'theme': 4434, 'instant': 2217, 'appear': 208, 'barbi': 363, 'dream': 1281, 'anytim': 195, 'aw': 315, 'gohom': 1847, 'vapid': 4710, 'duo': 1308, 'conceit': 909, 'start': 4179, 'act': 36, 'hooker': 2060, 'less': 2573, 'worri': 4907, 'beavi': 394, 'butthead': 613, 'matter': 2745, 'crazi': 1014, 'catch': 680, 'societi': 4078, 'judg': 2391, 'talk': 4354, 'got': 1860, 'ta': 4336, 'recip': 3602, 'humbl': 2097, 'pie': 3314, 'pink': 3320, 'gone': 1851, 'promogirl': 3451, 'wing': 4871, 'help': 2006, 'fli': 1646, 'whole': 4852, 'classi': 806, 'yeah': 4944, 'smash': 4060, 'heard': 1984, 'silli': 4006, 'wonder': 4897, 'choos': 764, 'sexist': 3920, 'four': 1689, 'six': 4026, 'fourth': 1692, 'femal': 1589, 'happen': 1955, 'parent': 3218, 'continu': 954, 'winner': 4872, 'eye': 1513, 'avoid': 314, 'feedback': 1581, 'though': 4457, 'shutup': 3990, 'sass': 3826, 'book': 514, 'twit': 4598, 'menu': 2803, 'dick': 1187, 'relat': 3629, 'ass': 265, 'suppos': 4293, 'bunch': 599, 'stupid': 4245, 'runway': 3781, 'cringeworthi': 1032, 'anni': 175, 'paid': 3193, 'visit': 4751, 'colour': 864, 'blush': 500, 'hair': 1939, 'grow': 1902, 'seri': 3905, 'finish': 1627, 'lesson': 2575, 'thank': 4414, 'ladi': 2511, 'format': 1678, 'week': 4823, 'cowboy': 999, 'fit': 1634, 'daughter': 1094, 'love': 2645, 'five': 1635, 'minut': 2847, 'stuck': 4240, 'bit': 459, 'neck': 2988, 'fat': 1561, 'gay': 1774, 'fianc': 1607, 'cope': 968, 'fresh': 1714, 'meat': 2770, 'hard': 1962, 'mari': 2717, 'carlyandtresn': 666, 'round': 3761, 'sheri': 3953, 'emili': 1372, 'sauc': 3833, 'capsicum': 654, 'stock': 4206, 'packet': 3190, 'jar': 2310, 'qualiti': 3512, 'expect': 1489, 'doubl': 1261, 'standard': 4173, 'equal': 1412, 'opportun': 3148, 'kill': 2457, 'aww': 322, 'forward': 1682, 'camilla': 634, 'absolut': 14, 'real': 3585, 'cunt': 1048, 'bum': 598, 'iq': 2251, 'faketoniatodman': 1536, 'lilbeastunleash': 2596, 'stweet': 4246, 'heart': 1985, 'order': 3156, 'fee': 1579, 'bee': 402, 'churn': 781, 'stomach': 4210, 'thought': 4458, 'big': 437, 'note': 3056, 'oven': 3176, 'hahahaha': 1936, 'weird': 4827, 'point': 3355, 'tit': 4487, 'sit': 4023, 'might': 2827, 'hip': 2032, 'dress': 1282, 'ars': 242, 'realiti': 3588, 'check': 732, 'high': 2021, 'hors': 2068, 'brag': 540, 'sock': 4079, 'texan': 4410, 'male': 2691, 'total': 4518, 'bs': 579, 'stand': 4172, 'anymor': 192, 'bimbo': 448, 'may': 2755, 'home': 2054, 'still': 4203, 'impress': 2168, 'happi': 1956, 'score': 3854, 'smart': 4059, 'produc': 3439, 'blow': 496, 'stay': 4188, 'competit': 896, 'save': 3838, 'caus': 688, 'met': 2810, 'war': 4785, 'length': 2564, 'accord': 28, 'showdown': 3983, 'posh': 3382, 'pronounc': 3453, 'porno': 3377, 'incorrect': 2180, 'harsh': 1969, 'porn': 3376, 'give': 1825, 'short': 3975, 'bet': 425, 'told': 4501, 'skinni': 4034, 'fun': 1734, 'ya': 4936, 'low': 2649, 'roll': 3744, 'soft': 4080, 'unfortun': 4651, 'armpit': 233, 'amsatweet': 152, 'evil': 1466, 'lol': 2629, 'hand': 1951, 'free': 1708, 'night': 3019, 'club': 826, 'gurl': 1920, 'reject': 3627, 'afar': 65, 'far': 1549, 'chuck': 778, 'togeth': 4498, 'best': 424, 'legend': 2557, 'cup': 1051, 'final': 1621, 'figur': 1612, 'camel': 630, 'toe': 4497, 'zy': 4997, 'bc': 382, 'ah': 83, 'believ': 417, 'product': 3440, 'promot': 3452, 'world': 4904, 'first': 1631, 'rest': 3669, 'correct': 977, 'certain': 708, 'part': 3223, 'anyway': 196, 'proven': 3469, 'true': 4569, 'half': 1944, 'question': 3517, 'subtl': 4255, 'perfect': 3275, 'everi': 1457, 'nasti': 2967, 'rate': 3566, 'bloke': 491, 'breast': 548, 'slight': 4048, 'teeth': 4389, 'mean': 2764, 'tomato': 4503, 'slap': 4040, 'loss': 2639, 'result': 3674, 'receiv': 3600, 'dessert': 1172, 'ffs': 1606, 'technic': 4384, 'hoe': 2045, 'finicalg': 1626, 'nicki': 3017, 'explain': 1496, 'complex': 900, 'place': 3332, 'mrtimothykay': 2919, 'omfg': 3126, 'lost': 2640, 'plot': 3344, 'fail': 1529, 'univers': 4658, 'remot': 3644, 'bigger': 438, 'forehead': 1669, 'generat': 1791, 'lemon': 2562, 'disgust': 1222, 'none': 3038, 'abl': 10, 'sell': 3891, 'dye': 1311, 'sas': 3825, 'plus': 3347, 'size': 4027, 'loos': 2634, 'someon': 4093, 'mock': 2874, 'extra': 1510, 'messag': 2809, 'spent': 4133, 'kiss': 2467, 'mirror': 2848, 'prepar': 3411, 'pant': 3210, 'tight': 4475, 'nah': 2958, 'also': 132, 'pls': 3345, 'duck': 1299, 'glove': 1837, 'blind': 483, 'kindergarten': 2463, 'student': 4241, 'alreadi': 130, 'lazi': 2536, 'desert': 1162, 'mess': 2808, 'maker': 2688, 'sinc': 4012, 'hill': 2027, 'count': 984, 'jim': 2349, 'work': 4902, 'boat': 505, 'hire': 2033, 'shop': 3974, 'must': 2940, 'ship': 3965, 'captain': 656, 'pose': 3381, 'tweet': 4591, 'sport': 4147, 'victoria': 4735, 'secret': 3876, 'soon': 4104, 'struggl': 4239, 'enough': 1397, 'repres': 3652, 'done': 1255, 'lot': 2642, 'cigarett': 785, 'smile': 4064, 'sure': 4295, 'meth': 2814, 'pass': 3229, 'test': 4406, 'chic': 743, 'vid': 4737, 'lord': 2636, 'sore': 4108, 'mr': 2915, 'fanta': 1547, 'least': 2547, 'new': 3005, 'level': 2579, 'patricechienn': 3243, 'everyth': 1462, 'script': 3862, 'wrong': 4923, 'knew': 2474, 'common': 884, 'sens': 3897, 'offici': 3108, 'tvweekmag': 4588, 'hahahahaha': 1937, 'moment': 2884, 'jesus': 2332, 'play': 3339, 'stuff': 4244, 'simpl': 4009, 'horribl': 2064, 'parti': 3224, 'escort': 1426, 'cos': 979, 'eloisepeac': 1365, 'haha': 1934, 'ill': 2144, 'punk': 3486, 'except': 1478, 'pout': 3390, 'readi': 3584, 'wipe': 4873, 'kick': 2452, 'bloodi': 495, 'incompet': 2179, 'proper': 3458, 'churner': 782, 'direct': 1205, 'hell': 2004, 'handl': 1952, 'toni': 4507, 'lynn': 2666, 'scream': 3856, 'salt': 3807, 'seaeph': 3871, 'pk': 3330, 'end': 1385, 'suit': 4269, 'drasco': 1276, 'small': 4058, 'georg': 1797, 'curd': 1054, 'cream': 1015, 'descript': 1161, 'reaction': 3582, 'collin': 856, 'inevit': 2192, 'review': 3684, 'lip': 2604, 'emma': 1373, 'drop': 1291, 'cool': 966, 'banana': 349, 'harder': 1963, 'bottl': 525, 'automat': 308, 'offer': 3106, 'funnier': 1738, 'upsid': 4673, 'ice': 2120, 'insert': 2210, 'brother': 566, 'ex': 1473, 'wife': 4857, 'admit': 51, 'burn': 602, 'water': 4805, 'claim': 800, 'general': 1790, 'view': 4740, 'pray': 3401, 'luck': 2655, 'differ': 1196, 'sick': 3995, 'dictionari': 1190, 'terribl': 4402, 'btw': 582, 'pick': 3312, 'screw': 3861, 'probabl': 3435, 'decent': 1121, 'ce': 696, 'highest': 2023, 'confirm': 923, 'cast': 676, 'dark': 1088, 'depth': 1156, 'suprem': 4294, 'plain': 3333, 'colinfassnidg': 850, 'yr': 4968, 'credibl': 1020, 'mark': 2720, 'tough': 4523, 'bianca': 432, 'push': 3492, 'wilson': 4865, 'otherwis': 3164, 'live': 2614, 'realis': 3586, 'housework': 2079, 'twice': 4596, 'gt': 1910, 'everybodi': 1458, 'statement': 4183, 'halfway': 1945, 'steve': 4197, 'equival': 1414, 'wannab': 4783, 'sale': 3804, 'thigh': 4447, 'moist': 2880, 'aisha': 91, 'gemma': 1786, 'deep': 1127, 'comment': 879, 'crumb': 1041, 'missclarolyn': 2857, 'item': 2287, 'left': 2552, 'sweeti': 4312, 'cant': 647, 'studi': 4242, 'inch': 2174, 'bullshit': 597, 'lack': 2509, 'talent': 4352, 'guy': 1922, 'tool': 4510, 'past': 3233, 'hat': 1973, 'mile': 2830, 'prefer': 3408, 'type': 4606, 'surpris': 4296, 'style': 4247, 'whore': 4853, 'selfi': 3889, 'andr': 162, 'fair': 1531, 'digniti': 1201, 'damn': 1078, 'rather': 3567, 'gotten': 1861, 'describ': 1160, 'pm': 3349, 'sleep': 4045, 'honest': 2057, 'behind': 414, 'throw': 4466, 'elimin': 1363, 'rid': 3700, 'hide': 2019, 'bingo': 450, 'smirk': 4065, 'tast': 4368, 'swallow': 4306, 'quot': 3526, 'footbal': 1665, 'critic': 1034, 'human': 2094, 'be': 385, 'life': 2590, 'curb': 1053, 'zero': 4986, 'cheat': 730, 'irrit': 2265, 'cough': 982, 'debra': 1119, 'eva': 1449, 'soul': 4113, 'bogan': 507, 'qldbesti': 3505, 'fine': 1624, 'drink': 1286, 'juic': 2395, 'neither': 2995, 'camera': 631, 'fame': 1541, 'disgrac': 1220, 'behaviour': 412, 'strateg': 4227, 'forev': 1672, 'itsjust': 2288, 'swear': 4307, 'fuckin': 1729, 'unfair': 4650, 'jean': 2322, 'mickfloyd': 2820, 'bambi': 347, 'katandandr': 2424, 'yup': 4975, 'bye': 618, 'major': 2686, 'coincid': 843, 'gave': 1772, 'recent': 3601, 'karma': 2421, 'benpobji': 422, 'credit': 1021, 'effort': 1349, 'other': 3163, 'hold': 2046, 'strategi': 4228, 'sort': 4112, 'desper': 1168, 'woman': 4894, 'insan': 2209, 'thru': 4468, 'judgement': 2392, 'wa': 4770, 'australia': 302, 'tall': 4355, 'syndrom': 4329, 'nation': 2969, 'manu': 2706, 'ok': 3115, 'box': 532, 'constant': 945, 'young': 4963, 'glad': 1827, 'asshol': 269, 'run': 3780, 'eat': 1325, 'carrot': 672, 'match': 2739, 'follow': 1659, 'piss': 3322, 'ray': 3572, 'fake': 1535, 'cuntandandr': 1049, 'biggest': 439, 'flog': 1649, 'cantcook': 648, 'dustype': 1309, 'hashtag': 1972, 'idea': 2124, 'sex': 3917, 'tan': 4357, 'orang': 3155, 'pork': 3375, 'man': 2694, 'crush': 1043, 'truth': 4573, 'borrow': 521, 'blown': 497, 'tbh': 4375, 'jgray': 2339, 'gordon': 1857, 'ramsay': 3551, 'purpos': 3490, 'televis': 4393, 'dare': 1087, 'freak': 1705, 'witch': 4880, 'crack': 1005, 'trend': 4554, 'lmao': 2617, 'cuntfacebitch': 1050, 'fight': 1610, 'jump': 2400, 'punch': 3484, 'vote': 4766, 'feistyfoodi': 1584, 'straight': 4221, 'jacket': 2294, 'suekennedi': 4264, 'smug': 4067, 'kunt': 2499, 'meal': 2763, 'insult': 2221, 'celebr': 697, 'crash': 1010, 'deserv': 1164, 'blondi': 493, 'chanc': 714, 'beat': 391, 'sweat': 4308, 'hole': 2047, 'mole': 2882, 'burnt': 603, 'icecream': 2121, 'shes': 3958, 'doesnt': 1247, 'viewer': 4741, 'magazin': 2679, 'daniel': 1083, 'kay': 2429, 'nt': 3072, 'mouth': 2910, 'set': 3910, 'despic': 1169, 'rat': 3565, 'ball': 344, 'aussi': 300, 'gal': 1751, 'appeal': 207, 'medic': 2779, 'unlik': 4661, 'grace': 1867, 'drag': 1271, 'complet': 899, 'class': 805, 'wick': 4856, 'seem': 3884, 'truli': 4570, 'genuin': 1796, 'worthi': 4912, 'individu': 2189, 'fan': 1544, 'disappoint': 1210, 'due': 1302, 'satan': 3828, 'okay': 3116, 'xx': 4935, 'twitter': 4599, 'higher': 2022, 'kandr': 2418, 'steam': 4191, 'boot': 517, 'awww': 323, 'bless': 481, 'bitter': 464, 'sweet': 4310, 'victori': 4734, 'toast': 4494, 'street': 4231, 'spit': 4138, 'selfish': 3890, 'fill': 1615, 'longer': 2632, 'au': 294, 'kate': 2425, 'gidgitvonlaru': 1816, 'huge': 2092, 'soo': 4103, 'sam': 3809, 'remain': 3638, 'countri': 988, 'roger': 3737, 'pathet': 3239, 'sympathi': 4326, 'rise': 3711, 'femin': 1592, 'strong': 4236, 'pan': 3206, 'hideous': 2020, 'twist': 4597, 'choke': 763, 'quick': 3520, 'utter': 4693, 'carpet': 669, 'snake': 4068, 'hous': 2077, 'degre': 1135, 'escap': 1425, 'chariti': 721, 'fund': 1736, 'mind': 2840, 'career': 665, 'target': 4366, 'shock': 3971, 'outrag': 3171, 'mx': 2947, 'ds': 1296, 'yet': 4956, 'around': 236, 'imposs': 2166, 'deal': 1111, 'allow': 125, 'laugh': 2527, 'meant': 2766, 'gloat': 1834, 'normal': 3045, 'mistak': 2858, 'attitud': 291, 'quiet': 3522, 'integr': 2223, 'pretend': 3416, 'health': 1982, 'issu': 2286, 'announc': 178, 'puke': 3482, 'embarrass': 1370, 'sportsmanship': 4150, 'chaplin': 718, 'enjoy': 1395, 'ahead': 84, 'smack': 4057, 'group': 1900, 'fkn': 1637, 'pete': 3291, 'foul': 1685, 'asham': 253, 'chang': 715, 'rare': 3564, 'piec': 3315, 'trash': 4545, 'ck': 799, 'die': 1193, 'tho': 4453, 'appar': 206, 'declar': 1124, 'particular': 3227, 'mayor': 2757, 'west': 4832, 'ur': 4675, 'across': 35, 'childish': 753, 'despit': 1171, 'commentari': 880, 'fought': 1684, 'nervous': 3000, 'tear': 4382, 'layer': 2535, 'late': 2523, 'fool': 1663, 'humili': 2098, 'child': 751, 'turn': 4585, 'ward': 4787, 'brick': 555, 'accept': 25, 'sister': 4022, 'that': 4415, 'shave': 3943, 'favourit': 1570, 'went': 4831, 'breakfast': 547, 'dear': 1115, 'lismari': 2607, 'cartoon': 673, 'charact': 719, 'develop': 1178, 'nd': 2980, 'venom': 4719, 'star': 4177, 'jessi': 2331, 'celin': 699, 'island': 2278, 'resembl': 3660, 'unpleas': 4663, 'reli': 3634, 'charm': 724, 'eleph': 1362, 'bulli': 596, 'goe': 1845, 'rose': 3754, 'josh': 2377, 'rob': 3726, 'lynzey': 2669, 'summari': 4274, 'vicious': 4731, 'aggress': 79, 'disrespect': 1229, 'add': 44, 'nail': 2959, 'board': 504, 'screech': 3857, 'split': 4141, 'threat': 4461, 'outta': 3174, 'caught': 686, 'ep': 1409, 'poni': 3368, 'heheh': 1999, 'dri': 1284, 'amaz': 139, 'futur': 1743, 'role': 3743, 'mother': 2905, 'crab': 1003, 'fest': 1603, 'saturday': 3832, 'flip': 1647, 'bird': 454, 'sudden': 4260, 'death': 1116, 'bus': 607, 'revers': 3683, 'driven': 1288, 'suffer': 4266, 'grown': 1903, 'reason': 3595, 'propos': 3461, 'lynnemcgrang': 2667, 'catchup': 681, 'spirit': 4136, 'anim': 169, 'justsay': 2412, 'im': 2149, 'camper': 639, 'threw': 4464, 'hello': 2005, 'sa': 3790, 'vs': 4768, 'corinnasladey': 973, 'instead': 2218, 'bull': 594, 'stronger': 4237, 'finger': 1625, 'cross': 1037, 'belong': 418, 'ebola': 1327, 'train': 4536, 'rofl': 3735, 'corner': 974, 'sucker': 4259, 'slop': 4051, 'ha': 1927, 'dollar': 1250, 'everytim': 1463, 'wan': 4780, 'decid': 1122, 'prawn': 3400, 'initi': 2204, 'news': 3008, 'sniffer': 4072, 'onto': 3137, 'bahahaha': 337, 'egg': 1351, 'nine': 3025, 'accent': 24, 'older': 3121, 'whoever': 4851, 'moron': 2900, 'town': 4525, 'hour': 2076, 'shell': 3949, 'olymp': 3125, 'king': 2464, 'lovemycoffeetoo': 2647, 'earth': 1319, 'twat': 4590, 'karmaisabitch': 2422, 'id': 2122, 'meh': 2786, 'most': 2903, 'delud': 1142, 'dean': 1113, 'machin': 2672, 'paint': 3196, 'lisa': 2605, 'cuz': 1064, 'safe': 3795, 'regard': 3621, 'happycamp': 1957, 'funni': 1737, 'choic': 762, 'blew': 482, 'record': 3606, 'event': 1454, 'edit': 1337, 'huh': 2093, 'glass': 1828, 'stone': 4211, 'horrid': 2065, 'behavior': 411, 'bake': 341, 'worth': 4911, 'proof': 3454, 'krazi': 2491, 'ku': 2496, 'cop': 967, 'lap': 2520, 'grin': 1893, 'devil': 1180, 'slept': 4046, 'tent': 4399, 'burp': 604, 'bey': 427, 'sx': 4320, 'piti': 3325, 'sink': 4017, 'meatbal': 2771, 'polic': 3359, 'power': 3393, 'camp': 636, 'site': 4024, 'morn': 2899, 'list': 2608, 'fault': 1564, 'bo': 503, 'marri': 2724, 'knock': 2478, 'grass': 1878, 'abil': 8, 'imaginari': 2153, 'friend': 1717, 'busi': 609, 'warm': 4789, 'pipe': 3321, 'bbq': 381, 'clear': 812, 'close': 821, 'heat': 1987, 'sydneyeditor': 4323, 'state': 4182, 'blame': 475, 'horrend': 2063, 'meanwhil': 2768, 'poison': 3356, 'posit': 3383, 'pancak': 3207, 'rank': 3557, 'chines': 756, 'bubbl': 583, 'squeak': 4158, 'hungrycamp': 2103, 'whoa': 4850, 'uh': 4617, 'oooh': 3140, 'applic': 211, 'sign': 4001, 'afternoon': 74, 'listen': 2609, 'practic': 3397, 'underyourporch': 4647, 'easi': 1320, 'kelann': 2435, 'rich': 3696, 'vicki': 4732, 'gas': 1768, 'deliv': 1141, 'freebsdgirl': 1710, 'liar': 2583, 'send': 3895, 'weight': 4826, 'mullah': 2927, 'oktar': 3118, 'mindless': 2841, 'repeat': 3648, 'azmoder': 326, 'joewsj': 2365, 'babbl': 327, 'endless': 1387, 'sumbelinaz': 4272, 'ironmanl': 2262, 'hatewatch': 1976, 'research': 3659, 'flatspaddl': 1641, 'velvethamm': 4718, 'meantim': 2767, 'genocid': 1794, 'boko': 509, 'haram': 1960, 'tib': 4471, 'islam': 2271, 'lie': 2589, 'ammaawah': 147, 'jm': 2357, 'inferior': 2194, 'newerajihadi': 3006, 'shamianalyst': 3931, 'pussi': 3493, 'kurdish': 2502, 'western': 4833, 'gun': 1919, 'semzyxx': 3894, 'owai': 3180, 'jihadi': 2342, 'understand': 4645, 'comprehens': 904, 'requir': 3657, 'trick': 4558, 'nainfidel': 2960, 'hadith': 1932, 'invit': 2244, 'anywher': 197, 'conclus': 912, 'contradict': 955, 'avail': 312, 'data': 1091, 'jennifercohagen': 2324, 'putin': 3495, 'support': 4292, 'russian': 3786, 'dictatorship': 1189, 'russia': 3785, 'bottom': 526, 'enalolena': 1382, 'roostrwoodstock': 3751, 'internet': 2234, 'propaganda': 3457, 'drug': 1293, 'forgotten': 1675, 'raja': 3546, 'aab': 0, 'quickieleak': 3521, 'ten': 4396, 'dead': 1109, 'kellyturn': 2437, 'buellerisher': 589, 'speak': 4125, 'drone': 1290, 'cultur': 1047, 'dianh': 1186, 'exposefalsehood': 1503, 'adult': 56, 'brushyblu': 576, 'engag': 1392, 'factual': 1525, 'evid': 1465, 'zip': 4991, 'unnot': 4662, 'cavusseyit': 690, 'yeap': 4945, 'smell': 4062, 'uygarakta': 4696, 'air': 89, 'strike': 4235, 'captiv': 657, 'civilian': 796, 'cri': 1026, 'quran': 3527, 'violent': 4748, 'barbar': 362, 'pile': 3317, 'femfreq': 1591, 'movi': 2913, 'protagonist': 3463, 'whine': 4846, 'unless': 4660, 'compar': 891, 'men': 2797, 'experi': 1493, 'maxblumenth': 2752, 'blumenth': 499, 'abus': 20, 'mn': 2871, 'jihadistjo': 2346, 'dedic': 1126, 'march': 2714, 'intern': 2233, 'ht': 2086, 'haroonstyl': 1967, 'greenlinerzjm': 1887, 'halalflaw': 1943, 'refer': 3615, 'number': 3075, 'copi': 970, 'pixieya': 3327, 'biebervalu': 436, 'versacezaynx': 4725, 'nyazpolit': 3082, 'amohedin': 148, 'islamdefens': 2272, 'display': 1227, 'skip': 4035, 'charg': 720, 'superior': 4286, 'option': 3154, 'obey': 3089, 'physic': 3310, 'vers': 4724, 'forc': 1667, 'cover': 995, 'wive': 4885, 'wit': 4878, 'replac': 3649, 'emot': 1374, 'halalcunti': 1941, 'liamxkiwi': 2582, 'taquiyya': 4364, 'account': 29, 'hillari': 2028, 'simpli': 4010, 'presid': 3413, 'sheikh': 3947, 'sharia': 3939, 'delet': 1139, 'thehil': 4429, 'clinton': 818, 'raniakhalek': 3556, 'sexual': 3921, 'tortur': 4515, 'dankmtl': 1085, 'peacenoth': 3259, 'jerk': 2328, 'aalwuhaib': 1, 'insid': 2211, 'church': 780, 'suppli': 4291, 'muslim': 2939, 'asheschow': 255, 'settl': 3911, 'process': 3438, 'campus': 640, 'assault': 267, 'npr': 3067, 'creat': 1016, 'current': 1058, 'rape': 3560, 'justlaurenb': 2411, 'da': 1068, 'sooo': 4105, 'htt': 2087, 'prais': 3398, 'ghostbust': 1813, 'cash': 675, 'pander': 3208, 'gender': 1789, 'polit': 3361, 'moder': 2877, 'feminist': 1596, 'oppos': 3149, 'womenagainstfemin': 4896, 'answer': 185, 'expos': 1502, 'opposit': 3150, 'thegag': 4427, 'assumpt': 275, 'fact': 1522, 'nope': 3043, 'bristolben': 559, 'ftr': 1726, 'era': 1416, 'mra': 2916, 'term': 4401, 'flaw': 1644, 'specif': 4128, 'switchmanzzz': 4318, 'ab': 3, 'asredasmyhair': 264, 'mgtowknight': 2817, 'fo': 1655, 'alli': 121, 'parenthood': 3219, 'via': 4729, 'financi': 1622, 'abort': 12, 'yu': 4970, 'favorit': 1569, 'reproduct': 3654, 'gamerg': 1756, 'video': 4738, 'refus': 3620, 'oppress': 3151, 'confus': 927, 'ndiamond': 2981, 'rapist': 3561, 'care': 664, 'tim': 4479, 'geelen': 1784, 'eaballesti': 1314, 'wage': 4774, 'gap': 1762, 'fairi': 1532, 'tale': 4351, 'distract': 1231, 'plenti': 3343, 'deni': 1151, 'argument': 226, 'forget': 1673, 'known': 2481, 'gop': 1856, 'nomin': 3035, 'romney': 3746, 'wh': 4836, 'sexism': 3919, 'chivalri': 758, 'advantag': 58, 'privileg': 3431, 'https': 2088, 'bowti': 531, 'mylostgadget': 2952, 'lostsailorni': 2641, 'nomorepag': 3036, 'odd': 3101, 'exploit': 1499, 'advanc': 57, 'useless': 4686, 'grandma': 1872, 'victim': 4733, 'fem': 1588, 'post': 3385, 'knight': 2476, 'mich': 2818, 'mcconnel': 2759, 'eventu': 1455, 'argu': 225, 'bodi': 506, 'grimachu': 1892, 'sound': 4114, 'separ': 3903, 'bias': 433, 'bigotri': 442, 'bigot': 441, 'robinash': 3731, 'accus': 32, 'thisonesakillaa': 4452, 'satir': 3829, 'hearti': 1986, 'stab': 4164, 'politicalcyn': 3364, 'movement': 2912, 'sole': 4086, 'mereachingout': 2806, 'sh': 3925, 'ter': 4400, 'zh': 4988, 'sad': 3791, 'basic': 369, 'fraud': 1702, 'washington': 4799, 'fortun': 1681, 'th': 4413, 'repli': 3650, 'anita': 171, 'uberfeminist': 4611, 'trek': 4552, 'actor': 40, 'troll': 4564, 'statist': 4185, 'money': 2888, 'grab': 1866, 'cheer': 733, 'menshumanright': 2799, 'legal': 2556, 'endang': 1386, 'drive': 1287, 'whether': 4844, 'divers': 1235, 'cult': 1046, 'hack': 1930, 'pizza': 3328, 'monster': 2891, 'singl': 4015, 'greatest': 1883, 'opinion': 3146, 'limit': 2600, 'hypocrisi': 2111, 'sorryitsaboy': 4110, 'welcom': 4828, 'ear': 1315, 'gb': 1776, 'everydaysex': 1460, 'te': 4377, 'ir': 2252, 'comedian': 874, 'enemi': 1389, 'philippeni': 3303, 'stoner': 4212, 'ignor': 2138, 'exact': 1474, 'dont': 1256, 'preach': 3404, 'ideolog': 2129, 'mass': 2733, 'endors': 1388, 'boy': 534, 'violenc': 4747, 'humanistfuri': 2095, 'shermertron': 3955, 'jennykutn': 2326, 'gif': 1817, 'fighter': 1611, 'player': 3341, 'liber': 2585, 'white': 4848, 'racist': 3532, 'salon': 3806, 'abnormalcybia': 11, 'garbag': 1763, 'determin': 1176, 'reach': 3580, 'potenti': 3389, 'journalist': 2381, 'block': 486, 'journal': 2380, 'protest': 3465, 'whose': 4854, 'antisjw': 190, 'doctor': 1244, 'sarah': 3819, 'genanoncoward': 1788, 'ad': 42, 'thewolf': 4446, 'feminazi': 1593, 'brotheryellow': 568, 'pictur': 3313, 'concept': 910, 'auragasm': 298, 'tl': 4489, 'shoe': 3972, 'nhead': 3013, 'afraid': 71, 'realtrumpsfeel': 3593, 'coward': 997, 'unblock': 4638, 'dudebro': 1301, 'uva': 4694, 'tactic': 4342, 'intoler': 2238, 'radic': 3535, 'woc': 4890, 'facerealitynow': 1521, 'amount': 150, 'sjw': 4028, 'tape': 4361, 'en': 1380, 'waynejburrow': 4810, 'defend': 1131, 'victorymonk': 4736, 'will': 4862, 'adopt': 53, 'sarcast': 3822, 'rad': 3533, 'pay': 3254, 'weed': 4822, 'root': 3752, 'foundat': 1687, 'questionsformen': 3519, 'asid': 259, 'vocal': 4756, 'minor': 2846, 'ea': 1313, 'realiz': 3590, 'taken': 4348, 'pregnant': 3409, 'deadbeat': 1110, 'dad': 1070, 'illeg': 2145, 'system': 4335, 'aussielung': 301, 'opt': 3152, 'solv': 4089, 'problem': 3436, 'ali': 108, 'east': 1323, 'amus': 153, 'misogyni': 2854, 'space': 4120, 'qt': 3509, 'ham': 1948, 'fist': 1633, 'straw': 4229, 'chop': 765, 'often': 3109, 'rude': 3772, 'present': 3412, 'feminismisaw': 1595, 'design': 1165, 'plan': 3334, 'apolog': 202, 'whatsoev': 4840, 'yep': 4949, 'snap': 4069, 'abt': 17, 'ppl': 3395, 'filthi': 1620, 'kmx': 2472, 'googl': 1854, 'hi': 2016, 'explicit': 1497, 'accur': 31, 'intent': 2228, 'scyleet': 3869, 'legit': 2558, 'feministfailur': 1597, 'pic': 3311, 'etc': 1436, 'dreysand': 1283, 'advic': 60, 'colleg': 855, 'date': 1093, 'appli': 210, 'attend': 289, 'school': 3850, 'hilari': 2026, 'hypocrit': 2112, 'key': 2445, 'later': 2524, 'son': 4100, 'greater': 1882, 'risk': 3712, 'law': 2532, 'dunno': 1307, 'today': 4496, 'pedo': 3263, 'jail': 2297, 'ditch': 1234, 'took': 4509, 'priest': 3423, 'month': 2892, 'topic': 4512, 'ryan': 3788, 'gg': 1807, 'gag': 1748, 'ford': 1668, 'misogynist': 2855, 'sometim': 4096, 'canada': 642, 'bill': 446, 'led': 2550, 'fire': 1628, 'deriv': 1159, 'blackop': 473, 'click': 816, 'hatr': 1977, 'shhh': 3959, 'trap': 4544, 'writer': 4921, 'usual': 4691, 'impli': 2163, 'laid': 2514, 'anniekfox': 177, 'shitti': 3969, 'exampl': 1476, 'photo': 3307, 'margin': 2716, 'convers': 960, 'egalitarian': 1350, 'shelter': 3950, 'attack': 287, 'fyi': 1745, 'feministlah': 1598, 'founder': 1688, 'amberhasalamb': 141, 'transic': 4540, 'nyc': 3083, 'complain': 897, 'needl': 2991, 'treat': 4549, 'irrelev': 2264, 'concern': 911, 'hayleyjo': 1978, 'genit': 1792, 'merit': 2807, 'discrimin': 1218, 'greenwein': 1888, 'valid': 4704, 'curious': 1056, 'project': 3448, 'popul': 3373, 'arriv': 239, 'neutral': 3003, 'african': 73, 'american': 144, 'jdefiant': 2319, 'paul': 3248, 'blade': 474, 'femfreefriday': 1590, 'middl': 2826, 'jk': 2355, 'shaner': 3932, 'loser': 2638, 'euroslava': 1447, 'brenbarb': 552, 'ed': 1332, 'misandrist': 2850, 'build': 592, 'hmm': 2041, 'worn': 4906, 'guid': 1915, 'particip': 3226, 'scarmichael': 3846, 'bar': 359, 'synthovin': 4331, 'forgot': 1674, 'suggest': 4267, 'insist': 2213, 'logic': 2624, 'theshujaatali': 4444, 'plz': 3348, 'approach': 213, 'assum': 274, 'msm': 2922, 'awesom': 319, 'awar': 316, 'teach': 4379, 'tehmenz': 4392, 'understat': 4646, 'beaten': 392, 'toss': 4517, 'valenti': 4700, 'po': 3351, 'wrote': 4924, 'scientist': 3853, 'agre': 82, 'valuabl': 4707, 'ga': 1746, 'nut': 3078, 'problemat': 3437, 'articl': 247, 'math': 2742, 'fals': 1540, 'crisi': 1033, 'theori': 4439, 'driver': 1289, 'ca': 619, 'modern': 2878, 'misandri': 2849, 'anti': 188, 'activ': 38, 'unawar': 4636, 'lectur': 2549, 'challeng': 711, 'examin': 1475, 'bother': 524, 'permiss': 3280, 'yawn': 4940, 'sweden': 4309, 'criticalkaiju': 1035, 'creativ': 1018, 'exist': 1487, 'film': 1616, 'version': 4726, 'knux': 2482, 'bmackillopthio': 502, 'tabloid': 4339, 'trump': 4571, 'slur': 4055, 'market': 2721, 'democrat': 1147, 'prop': 3456, 'evolv': 1467, 'remov': 3645, 'move': 2911, 'defin': 1133, 'bananarambl': 350, 'identifi': 2128, 'sommer': 4099, 'equalpay': 1413, 'cathyyoung': 684, 'social': 4077, 'shorter': 3976, 'weaker': 4814, 'essenti': 1432, 'ban': 348, 'shirt': 3966, 'uk': 4619, 'disabl': 1208, 'manishlimbu': 2700, 'reliabl': 3635, 'depart': 1154, 'pd': 3257, 'complaint': 898, 'prosecut': 3462, 'listentoraisin': 2610, 'focus': 1656, 'patriarchi': 3242, 'myth': 2953, 'master': 2736, 'media': 2777, 'narrat': 2965, 'rock': 3733, 'closer': 822, 'excus': 1484, 'includ': 2177, 'ilivundrurb': 2143, 'sara': 3817, 'symbol': 4325, 'howev': 2081, 'interest': 2231, 'predict': 3406, 'rememb': 3641, 'audmum': 297, 'link': 2602, 'blasphemi': 477, 'mix': 2861, 'suspend': 4301, 'acct': 30, 'stalk': 4170, 'pencil': 3267, 'desir': 1166, 'feministsareug': 1599, 'comic': 877, 'excel': 1477, 'noin': 3031, 'republican': 3655, 'obama': 3088, 'blog': 489, 'ahem': 85, 'valiantrook': 4703, 'doubt': 1262, 'realist': 3587, 'tenni': 4398, 'trishesdish': 4561, 'humor': 2099, 'meme': 2795, 'destruct': 1174, 'special': 4127, 'occas': 3099, 'cjn': 798, 'slow': 4053, 'pace': 3187, 'confer': 920, 'respect': 3666, 'civil': 795, 'leader': 2541, 'upon': 4669, 'extent': 1507, 'overwhelm': 3179, 'communism': 886, 'horrif': 2066, 'candid': 645, 'bush': 608, 'fewer': 1605, 'hurt': 2107, 'boxedariel': 533, 'cite': 791, 'return': 3678, 'origin': 3159, 'knowledg': 2480, 'franc': 1698, 'germani': 1802, 'india': 2186, 'alon': 128, 'thread': 4460, 'weak': 4812, 'fruitondabottom': 1724, 'compliment': 902, 'absurd': 16, 'import': 2164, 'blacklivesmatt': 471, 'brian': 554, 'bank': 356, 'destroy': 1173, 'remak': 3639, 'period': 3278, 'tamedinsan': 4356, 'sarcasm': 3821, 'context': 953, 'earn': 1318, 'conflat': 924, 'author': 304, 'angri': 168, 'econom': 1330, 'wiki': 4858, 'lbigmann': 2538, 'prob': 3434, 'critiqu': 1036, 'zone': 4994, 'educ': 1341, 'somebodi': 4090, 'sourc': 4116, 'stori': 4217, 'babi': 328, 'daili': 1073, 'cis': 789, 'jew': 2335, 'racism': 3531, 'erikssonmalin': 1419, 'express': 1504, 'anger': 167, 'threaten': 4462, 'becom': 398, 'scare': 3844, 'commit': 882, 'divorc': 1239, 'ruin': 3777, 'oblig': 3092, 'birth': 456, 'abandon': 4, 'femitheist': 1600, 'safer': 3797, 'oper': 3145, 'solut': 4088, 'ktonieskacz': 2495, 'welfar': 4829, 'lt': 2653, 'cs': 1044, 'poe': 3353, 'spoiler': 4143, 'alert': 102, 'ghost': 1812, 'bruce': 572, 'willi': 4863, 'sirscatt': 4021, 'somehow': 4091, 'stevenbirt': 4199, 'nonirishpaddi': 3039, 'measur': 2769, 'control': 957, 'youtub': 4965, 'akkad': 98, 'mansplain': 2704, 'artist': 248, 'ing': 2199, 'meninisttweet': 2798, 'chill': 755, 'door': 1258, 'protect': 3464, 'tcot': 4376, 'heforsh': 1996, 'feminin': 1594, 'buy': 615, 'store': 4216, 'cave': 689, 'johnni': 2367, 'mediev': 2781, 'prejudic': 3410, 'join': 2369, 'anonmnom': 181, 'relev': 3633, 'isol': 2280, 'enforc': 1390, 'violat': 4746, 'adviceforyoungfeminist': 61, 'con': 908, 'profit': 3445, 'ironi': 2261, 'mechasauc': 2775, 'spin': 4135, 'price': 3420, 'wheel': 4841, 'land': 2517, 'loki': 2628, 'jotunn': 2378, 'defens': 1132, 'kkk': 2470, 'stole': 4208, 'shelbylynn': 3948, 'tigerclaud': 4474, 'default': 1129, 'alleg': 117, 'spam': 4122, 'tip': 4485, 'mad': 2673, 'holi': 2048, 'comattwow': 866, 'idontneedfemin': 2133, 'mrs': 2918, 'conserv': 941, 'consent': 939, 'spoil': 4142, 'inflatio': 2195, 'rd': 3579, 'horror': 2067, 'justifi': 2408, 'somekindaboogin': 4092, 'indi': 2185, 'corrupt': 978, 'pc': 3256, 'walker': 4778, 'onlin': 3134, 'info': 2196, 'report': 3651, 'sentenc': 3900, 'genius': 1793, 'spacekatg': 4121, 'multipl': 2928, 'everyday': 1459, 'eve': 1452, 'amarinaw': 138, 'oneiorosgrip': 3132, 'employ': 1377, 'card': 662, 'draw': 1278, 'scari': 3845, 'written': 4922, 'paper': 3211, 'trade': 4532, 'jet': 2333, 'decad': 1120, 'srhbutt': 4160, 'nobodi': 3030, 'pet': 3290, 'maniac': 2698, 'elizabethhobso': 1364, 'french': 1713, 'chubssay': 777, 'beef': 403, 'negat': 2992, 'action': 37, 'prison': 3428, 'prevent': 3418, 'whatfeminismgavem': 4839, 'ago': 80, 'brilliant': 557, 'ty': 4605, 'dirti': 1206, 'notyourshield': 3061, 'father': 1562, 'exchang': 1480, 'yesallwomen': 4951, 'lz': 2670, 'advoc': 63, 'la': 2505, 'antifempsycho': 189, 'eu': 1443, 'patriot': 3245, 'speech': 4129, 'totalitarian': 4519, 'dig': 1199, 'kinda': 2462, 'shape': 3936, 'carri': 670, 'motiv': 2907, 'outcom': 3168, 'allehegen': 119, 'chicken': 745, 'uneduc': 4648, 'imag': 2151, 'cent': 702, 'fear': 1573, 'ride': 3701, 'thor': 4455, 'attract': 292, 'label': 2506, 'magic': 2680, 'awkward': 321, 'teenag': 4388, 'innoc': 2206, 'isi': 2269, 'catfreq': 683, 'eaten': 1326, 'anybodi': 191, 'sniper': 4073, 'organ': 3158, 'verifi': 4723, 'gamer': 1754, 'robot': 3732, 'crucifi': 1039, 'smh': 4063, 'bruh': 574, 'judgybitch': 2394, 'stare': 4178, 'nap': 2963, 'penalti': 3266, 'nr': 3068, 'battl': 376, 'retweet': 3679, 'fav': 1566, 'sp': 4119, 'draft': 1270, 'av': 309, 'divis': 1238, 'rival': 3714, 'reward': 3687, 'execut': 1485, 'rebuild': 3597, 'tank': 4358, 'gari': 1764, 'parodi': 3222, 'atheism': 280, 'attent': 290, 'unequ': 4649, 'public': 3480, 'privat': 3430, 'puppet': 3487, 'toxic': 4526, 'disciplin': 1214, 'fb': 1571, 'imprison': 2169, 'breed': 550, 'wash': 4798, 'rins': 3709, 'minasmith': 2839, 'polici': 3360, 'profil': 3444, 'harass': 1961, 'share': 3937, 'tos': 4516, 'campaign': 638, 'beyond': 429, 'acknowledg': 34, 'dv': 1310, 'sheep': 3945, 'court': 992, 'sue': 4263, 'wreck': 4918, 'foxnew': 1694, 'sjws': 4029, 'guilt': 1916, 'whenev': 4843, 'content': 951, 'atheist': 281, 'embrac': 1371, 'dezzantibus': 1183, 'field': 1609, 'par': 3214, 'superjutah': 4287, 'mom': 2883, 'kept': 2441, 'justdavidvideo': 2405, 'ish': 2267, 'spot': 4151, 'korea': 2487, 'adriarichard': 55, 'punish': 3485, 'questionsforfeminist': 3518, 'steal': 4190, 'effect': 1348, 'ne': 2982, 'crimin': 1030, 'crime': 1029, 'empathi': 1375, 'survivor': 4299, 'beyonc': 428, 'justic': 2407, 'shield': 3961, 'twitterfemin': 4600, 'teen': 4387, 'comput': 907, 'scienc': 3851, 'soooo': 4106, 'christian': 771, 'grey': 1891, 'caliph': 624, 'reddit': 3610, 'petit': 3298, 'uw': 4695, 'shade': 3926, 'trailer': 4535, 'gi': 1814, 'um': 4623, 'myer': 2949, 'form': 1677, 'maddybaylor': 2676, 'translat': 4542, 'nonsens': 3041, 'pain': 3195, 'ben': 419, 'didymusleonhart': 1192, 'earlier': 1317, 'stat': 4181, 'notif': 3059, 'gov': 1862, 'frame': 1697, 'economi': 1331, 'blocklist': 488, 'leighalexand': 2561, 'terror': 4404, 'squat': 4157, 'non': 3037, 'sexyisntsexist': 3922, 'resort': 3664, 'attempt': 288, 'virgin': 4749, 'clue': 827, 'op': 3143, 'avacadosoup': 311, 'inan': 2172, 'although': 134, 'pop': 3371, 'meet': 2784, 'mislu': 2853, 'kravin': 2490, 'inform': 2197, 'per': 3273, 'se': 3870, 'thug': 4469, 'frozen': 1722, 'brainwash': 542, 'wateronatrain': 4806, 'undermin': 4644, 'lead': 2540, 'manufactur': 2708, 'discuss': 1219, 'collect': 854, 'random': 3554, 'perform': 3276, 'art': 245, 'mistaphil': 2859, 'car': 659, 'natalietudor': 2968, 'gray': 1880, 'theesadiemari': 4425, 'tax': 4373, 'intens': 2227, 'damag': 1075, 'race': 3530, 'interview': 2236, 'illiter': 2146, 'capit': 653, 'somewher': 4098, 'previous': 3419, 'notchrissmith': 3055, 'hollywood': 2052, 'negoti': 2993, 'flat': 1640, 'markuslenz': 2723, 'lower': 2650, 'demand': 1145, 'helsybobsmith': 2008, 'imagin': 2152, 'hrs': 2085, 'formula': 1680, 'gain': 1750, 'moral': 2897, 'remark': 3640, 'rooshv': 3750, 'valu': 4706, 'rotherham': 3758, 'disagre': 1209, 'peter': 3295, 'invent': 2241, 'page': 3192, 'thegeek': 4428, 'iron': 2260, 'necessari': 2986, 'achiev': 33, 'scroll': 3863, 'gabystama': 1747, 'trust': 4572, 'materi': 2741, 'vcr': 4714, 'strang': 4223, 'sigh': 3998, 'jimyisahappyboy': 2351, 'micro': 2822, 'compens': 894, 'difficult': 1197, 'pure': 3489, 'unit': 4657, 'arquett': 237, 'david': 1097, 'nw': 3080, 'feather': 1575, 'ww': 4926, 'easier': 1321, 'melisssugh': 2791, 'famous': 1543, 'rais': 3545, 'disgruntlegam': 1221, 'grybranix': 1909, 'clitbab': 820, 'juliandavi': 2398, 'el': 1357, 'traininvainn': 4537, 'hospit': 2070, 'mail': 2682, 'sent': 3899, 'simpson': 4011, 'rampaigera': 3550, 'wrestl': 4919, 'aim': 88, 'earli': 1316, 'fed': 1578, 'tattoo': 4370, 'sever': 3914, 'bone': 511, 'cazzapuppi': 691, 'tend': 4397, 'detail': 1175, 'guarante': 1911, 'brand': 543, 'safeti': 3798, 'exclud': 1482, 'offic': 3107, 'gee': 1782, 'goal': 1840, 'audienc': 295, 'aka': 95, 'boycottbrandi': 536, 'hanna': 1954, 'biscuit': 458, 'rn': 3723, 'platform': 3338, 'easili': 1322, 'collaps': 852, 'communist': 887, 'girlfriend': 1822, 'leokikiladi': 2569, 'activist': 39, 'lyall': 2663, 'assign': 270, 'funniest': 1739, 'commerci': 881, 'lg': 2581, 'smear': 4061, 'mk': 2865, 'mras': 2917, 'dc': 1105, 'color': 862, 'ran': 3552, 'nimoy': 3023, 'og': 3110, 'rip': 3710, 'fork': 1676, 'beg': 406, 'breath': 549, 'colorado': 863, 'truck': 4568, 'carbon': 661, 'fri': 1715, 'overal': 3177, 'america': 143, 'along': 129, 'conspiraci': 944, 'incit': 2176, 'factsvsopinion': 1524, 'pervert': 3287, 'et': 1435, 'uncl': 4639, 'nicer': 3015, 'warrior': 4795, 'object': 3091, 'toler': 4502, 'impos': 2165, 'rag': 3537, 'stink': 4205, 'patienc': 3240, 'dqtwitchstream': 1268, 'junki': 2402, 'st': 4163, 'richard': 3697, 'given': 1826, 'demonstr': 1150, 'firm': 1630, 'respond': 3667, 'investig': 2243, 'email': 1369, 'libel': 2584, 'broad': 562, 'interact': 2229, 'hang': 1953, 'politibunni': 3362, 'spout': 4152, 'inspir': 2214, 'fox': 1693, 'wine': 4870, 'aria': 227, 'pitch': 3324, 'engin': 1393, 'sold': 4084, 'terrifi': 4403, 'masculin': 2730, 'reveng': 3681, 'suicid': 4268, 'factor': 1523, 'expert': 1495, 'wont': 4899, 'address': 47, 'mere': 2805, 'thousand': 4459, 'manipul': 2699, 'entertain': 1402, 'palm': 3204, 'belief': 416, 'justin': 2409, 'song': 4101, 'chart': 725, 'nom': 3033, 'nose': 3049, 'bay': 377, 'window': 4869, 'espn': 1428, 'ss': 4161, 'success': 4257, 'failur': 1530, 'twothug': 4604, 'yesyouresexist': 4955, 'stereotyp': 4196, 'light': 2593, 'ideal': 2125, 'sensit': 3898, 'search': 3873, 'offend': 3104, 'tal': 4350, 'yesyoureracist': 4954, 'ref': 3614, 'freakin': 1707, 'sxflint': 4321, 'tw': 4589, 'fruit': 1723, 'dude': 1300, 'wed': 4821, 'arab': 216, 'notsexist': 3060, 'lend': 2563, 'nosexist': 3050, 'spell': 4131, 'sir': 4018, 'wast': 4801, 'fuel': 1731, 'publish': 3481, 'pack': 3188, 'atmospher': 284, 'bro': 561, 'backward': 332, 'tradit': 4534, 'sportscent': 4149, 'fart': 1554, 'bf': 430, 'broke': 564, 'uncomfort': 4640, 'boom': 516, 'com': 865, 'cloth': 823, 'bed': 400, 'jordan': 2373, 'soccer': 4076, 'relationship': 3630, 'tire': 4486, 'idc': 2123, 'billion': 447, 'entitl': 1404, 'cowork': 1000, 'interpret': 2235, 'everywher': 1464, 'congress': 931, 'bowl': 530, 'sportscast': 4148, 'promis': 3449, 'latest': 2525, 'highlight': 2025, 'auto': 306, 'laundri': 2529, 'sandwich': 3815, 'north': 3046, 'sight': 3999, 'smoke': 4066, 'panel': 3209, 'coach': 832, 'row': 3762, 'alex': 103, 'satisfi': 3830, 'sorrynotsorri': 4111, 'hockey': 2044, 'singer': 4014, 'ponder': 3367, 'goat': 1841, 'potato': 3388, 'fiction': 1608, 'rugbi': 3776, 'traviee': 4548, 'trizzzi': 4562, 'intercept': 2230, 'tackl': 4341, 'observ': 3094, 'bout': 528, 'bug': 590, 'speed': 4130, 'park': 3221, 'defeat': 1130, 'hungri': 2102, 'homeless': 2055, 'analyst': 156, 'felt': 1587, 'whilst': 4845, 'therefor': 4443, 'boyfriend': 537, 'scale': 3841, 'offenc': 3103, 'slightest': 4049, 'leviathanprid': 2580, 'loud': 2644, 'bite': 463, 'halloween': 1947, 'recogn': 3604, 'af': 64, 'allen': 120, 'extrem': 1511, 'approv': 215, 'outfit': 3169, 'yo': 4960, 'novemb': 3062, 'labor': 2507, 'cole': 846, 'prime': 3425, 'minist': 2845, 'plane': 3335, 'speaker': 4126, 'matt': 2744, 'mechan': 2774, 'rebel': 3596, 'submit': 4251, 'provid': 3470, 'clever': 814, 'rear': 3594, 'urself': 4680, 'jamiecowan': 2303, 'within': 4881, 'bike': 444, 'jame': 2299, 'soldier': 4085, 'hee': 1994, 'network': 3002, 'spoke': 4144, 'chant': 717, 'pilot': 3318, 'sf': 3923, 'taught': 4371, 'lane': 2518, 'dj': 1240, 'manag': 2695, 'creation': 1017, 'adam': 43, 'music': 2938, 'connor': 935, 'stage': 4166, 'witti': 4884, 'radio': 3536, 'biolog': 453, 'idk': 2131, 'rap': 3559, 'plug': 3346, 'ipad': 2250, 'weather': 4818, 'amirit': 146, 'ami': 145, 'becam': 396, 'mute': 2942, 'languag': 2519, 'refere': 3616, 'basketbal': 372, 'shoot': 3973, 'militari': 2833, 'classic': 807, 'program': 3446, 'comfort': 876, 'boob': 513, 'professor': 3442, 'road': 3724, 'rage': 3538, 'popular': 3374, 'phone': 3305, 'broken': 565, 'chromosom': 776, 'grasp': 1877, 'complic': 901, 'magnet': 2681, 'poetri': 3354, 'clich': 815, 'gem': 1785, 'sewer': 3916, 'erin': 1420, 'andrew': 164, 'clean': 810, 'eh': 1355, 'weekend': 4824, 'evan': 1451, 'wnba': 4888, 'troubl': 4566, 'lock': 2622, 'famili': 1542, 'thoma': 4454, 'standup': 4174, 'joe': 2364, 'thejpdh': 4431, 'what': 4837, 'analyt': 157, 'vocalist': 4757, 'nba': 2977, 'wo': 4889, 'ufc': 4613, 'titl': 4488, 'relax': 3631, 'afterward': 75, 'shift': 3962, 'file': 1613, 'paperwork': 3213, 'mood': 2893, 'cyber': 1066, 'saudi': 3834, 'regardless': 3622, 'cricket': 1027, 'sky': 4037, 'app': 205, 'experienc': 1494, 'retard': 3675, 'abdul': 6, 'arsenick': 244, 'xbox': 4928, 'brush': 575, 'regular': 3625, 'tf': 4412, 'select': 3886, 'fish': 1632, 'pub': 3479, 'edgi': 1335, 'communic': 885, 'fave': 1567, 'teacher': 4380, 'robertosamalia': 3729, 'heck': 1992, 'bait': 340, 'flash': 1639, 'summer': 4275, 'pakistani': 3199, 'dammit': 1077, 'foreign': 1670, 'rain': 3544, 'centuri': 705, 'batteri': 375, 'involv': 2246, 'scientif': 3852, 'precis': 3405, 'fantast': 1548, 'jimboslic': 2350, 'thelmasleaz': 4433, 'passion': 3230, 'yesterday': 4953, 'clueless': 828, 'ev': 1448, 'jkronenwett': 2356, 'jr': 2384, 'appropri': 214, 'usernam': 4690, 'scandal': 3843, 'gf': 1806, 'fold': 1657, 'typic': 4607, 'rapper': 3562, 'asian': 258, 'hu': 2089, 'yall': 4938, 'lawyer': 2534, 'volunt': 4763, 'intellig': 2225, 'beard': 389, 'wizardryofozil': 4886, 'cost': 981, 'memori': 2796, 'leagu': 2543, 'videogam': 4739, 'industri': 2190, 'brutal': 577, 'athlet': 283, 'british': 560, 'curl': 1057, 'react': 3581, 'citi': 792, 'vast': 4712, 'comparison': 892, 'combat': 867, 'controversi': 958, 'therealfattlaff': 4442, 'dm': 1242, 'began': 407, 'coz': 1001, 'text': 4411, 'nooo': 3042, 'histor': 2034, 'lowest': 2651, 'soup': 4115, 'unreal': 4664, 'sum': 4271, 'track': 4531, 'john': 2366, 'curs': 1059, 'decis': 1123, 'bin': 449, 'raid': 3540, 'accid': 26, 'qualifi': 3511, 'sunday': 4279, 'lad': 2510, 'razor': 3576, 'jeff': 2323, 'starv': 4180, 'suey': 4265, 'stranger': 4224, 'nikeenan': 3021, 'rf': 3689, 'homosexu': 2056, 'mo': 2872, 'host': 2071, 'broadcast': 563, 'jack': 2293, 'thin': 4448, 'fell': 1585, 'justhonest': 2406, 'entir': 1403, 'advis': 62, 'mindset': 2842, 'irkmeingram': 2258, 'debat': 1118, 'insur': 2222, 'lame': 2516, 'implement': 2162, 'profession': 3441, 'parallel': 3217, 'lotrquot': 2643, 'boss': 522, 'cutest': 1063, 'fast': 1559, 'ricanrol': 3694, 'licens': 2588, 'background': 330, 'def': 1128, 'chris': 769, 'fade': 1526, 'william': 4864, 'jason': 2314, 'grip': 1895, 'qu': 3510, 'heel': 1995, 'sexi': 3918, 'mob': 2873, 'pr': 3396, 'despis': 1170, 'cater': 682, 'de': 1107, 'douch': 1263, 'grindmod': 1894, 'somewhat': 4097, 'perspect': 3285, 'depend': 1155, 'partner': 3228, 'burrito': 606, 'toward': 4524, 'mike': 2828, 'counter': 986, 'vice': 4730, 'charli': 723, 'sing': 4013, 'band': 351, 'nfl': 3012, 'shouldnt': 3978, 'ballsohard': 345, 'appl': 209, 'anthonysammarco': 187, 'planet': 3336, 'robert': 3728, 'assist': 271, 'faster': 1560, 'jakedandrea': 2298, 'dr': 1269, 'pressur': 3415, 'rorybrown': 3753, 'mufc': 2925, 'volum': 4762, 'connorsmart': 936, 'jealous': 2321, 'keyboard': 2446, 'shite': 3968, 'jord': 2372, 'berh': 423, 'cm': 829, 'unapp': 4633, 'sampl': 3811, 'deanowen': 1114, 'phildoran': 3301, 'christ': 770, 'delici': 1140, 'chief': 748, 'comedi': 873, 'mshaysoul': 2920, 'timelin': 4481, 'lil': 2595, 'cute': 1062, 'spend': 4132, 'empir': 1376, 'fallen': 1539, 'iirc': 2140, 'pwrecliv': 3499, 'rubbish': 3767, 'incred': 2182, 'compet': 895, 'mmmotorsport': 2870, 'cj': 797, 'ew': 1469, 'matti': 2746, 'fulli': 1733, 'joy': 2383, 'oldgfatherclock': 3122, 'hailcaesar': 1938, 'infantri': 2193, 'mjb': 2863, 'prize': 3432, 'noshirtkurt': 3051, 'peac': 3258, 'releas': 3632, 'marvel': 2727, 'gailsimon': 1749, 'explod': 1498, 'status': 4187, 'grant': 1873, 'revolv': 3686, 'rant': 3558, 'circumst': 788, 'ann': 173, 'al': 99, 'pov': 3391, 'kickass': 2453, 'guardian': 1912, 'virtual': 4750, 'improv': 2170, 'clown': 825, 'kit': 2468, 'fanci': 1546, 'armi': 231, 'compani': 890, 'brown': 570, 'immedi': 2155, 'sentiment': 3901, 'mar': 2713, 'heaven': 1988, 'forbid': 1666, 'marin': 2719, 'ferguson': 1601, 'cheuya': 741, 'humour': 2100, 'wayn': 4809, 'ensur': 1400, 'dumbass': 1304, 'recruit': 3607, 'yuck': 4971, 'synonym': 4330, 'touch': 4522, 'gang': 1761, 'shower': 3984, 'drift': 1285, 'schmeezi': 3848, 'matur': 2750, 'boycott': 535, 'code': 839, 'ate': 278, 'coslopuss': 980, 'download': 1265, 'boil': 508, 'blood': 494, 'bb': 378, 'addict': 46, 'ration': 3569, 'wi': 4855, 'hy': 2109, 'conduct': 918, 'frayer': 1704, 'outsid': 3173, 'reveal': 3680, 'renaissancereez': 3646, 'chopper': 766, 'among': 149, 'intimid': 2237, 'assert': 268, 'thetrudz': 4445, 'center': 703, 'lucki': 2656, 'aliv': 113, 'vehicl': 4717, 'servic': 3909, 'upset': 4672, 'hater': 1975, 'belfastscous': 415, 'connect': 933, 'button': 614, 'ohsosoftley': 3113, 'ryangebbl': 3789, 'shepard': 3951, 'properti': 3459, 'bam': 346, 'davegreen': 1096, 'wrap': 4917, 'goddamn': 1844, 'connollyisk': 934, 'rubi': 3768, 'rkp': 3721, 'labour': 2508, 'youknowitsdoug': 4962, 'wk': 4887, 'olli': 3124, 'lobb': 2619, 'aid': 87, 'andythewooki': 166, 'wanker': 4782, 'whini': 4847, 'yell': 4947, 'rildom': 3706, 'urmindblown': 4679, 'wind': 4868, 'wiper': 4874, 'douglass': 1264, 'grexican': 1890, 'fuckthanksgiv': 1730, 'strubbestit': 4238, 'chase': 726, 'lenletaylor': 2565, 'cocacola': 835, 'milk': 2835, 'pin': 3319, 'tadam': 4343, 'offens': 3105, 'nightm': 3020, 'communiti': 888, 'shout': 3979, 'holiday': 2049, 'toy': 4527, 'colemcdowel': 847, 'unabl': 4631, 'soni': 4102, 'nude': 3073, 'employe': 1378, 'hq': 2083, 'filippelli': 1614, 'grammar': 1871, 'favor': 1568, 'nick': 3016, 'gift': 1818, 'dalek': 1074, 'conflict': 925, 'encount': 1383, 'difficulti': 1198, 'tini': 4484, 'japanes': 2309, 'slip': 4050, 'slide': 4047, 'snow': 4075, 'childhood': 752, 'cell': 700, 'intend': 2226, 'chest': 740, 'purs': 3491, 'tempt': 4395, 'lesbian': 2572, 'butt': 611, 'ion': 2248, 'stair': 4167, 'med': 2776, 'subscrib': 4252, 'rgay': 3691, 'lesser': 2574, 'twelv': 4594, 'hundr': 2101, 'mon': 2886, 'sake': 3802, 'masterbatk': 2737, 'wise': 4876, 'mini': 2844, 'kyle': 2504, 'crilli': 1028, 'rts': 3766, 'dramat': 1275, 'reserv': 3661, 'side': 3996, 'scrutini': 3865, 'situat': 4025, 'mop': 2896, 'floor': 1651, 'imrtrippi': 2171, 'cancer': 644, 'valentin': 4701, 'tr': 4530, 'leigh': 2560, 'un': 4630, 'silicon': 4005, 'valley': 4705, 'tech': 4383, 'sponsor': 4145, 'raider': 3541, 'bearcat': 388, 'recommend': 3605, 'hr': 2084, 'cancel': 643, 'honor': 2059, 'gatox': 1771, 'colonelkickhead': 860, 'manufeildel': 2709, 'vanilla': 4709, 'eastern': 1324, 'european': 1446, 'woop': 4900, 'local': 2620, 'condescend': 915, 'congratulatori': 930, 'bland': 476, 'nake': 2961, 'foodi': 1662, 'lisamromano': 2606, 'paleo': 3200, 'congratul': 929, 'reckon': 3603, 'bag': 335, 'glee': 1830, 'flavour': 1643, 'cake': 622, 'alien': 111, 'shove': 3981, 'tuesday': 4577, 'mmmm': 2868, 'garydlum': 1767, 'enter': 1401, 'danger': 1082, 'censor': 701, 'themenin': 4435, 'vi': 4728, 'websit': 4820, 'expel': 1491, 'born': 520, 'steak': 4189, 'brekki': 551, 'islamofascist': 2275, 'ibnhloph': 2119, 'eeviewond': 1345, 'anjemchoudari': 172, 'inhuman': 2203, 'religion': 3637, 'contact': 949, 'outlaw': 3170, 'prophet': 3460, 'pedophil': 3264, 'caravan': 660, 'robber': 3727, 'slave': 4042, 'trader': 4533, 'scum': 3867, 'moham': 2879, 'islamolunat': 2276, 'remi': 3642, 'israel': 2282, 'extermin': 1508, 'allah': 115, 'obsess': 3095, 'reflect': 3618, 'giant': 1815, 'umarfarooq': 4625, 'madrassa': 2678, 'fanat': 1545, 'reform': 3619, 'egypt': 1353, 'palestinian': 3202, 'hama': 1949, 'juliet': 2399, 'norway': 3048, 'larg': 2521, 'ozzsu': 3185, 'yazidi': 4942, 'convert': 961, 'sinjar': 4016, 'jizya': 2352, 'scumbag': 3868, 'spiritu': 4137, 'dump': 1305, 'imam': 2154, 'jihad': 2341, 'milit': 2832, 'mosul': 2904, 'petertownsend': 3297, 'ummayman': 4629, 'medina': 2782, 'jewish': 2337, 'enslav': 1398, 'slaveri': 4044, 'bear': 387, 'furthermor': 1742, 'custom': 1060, 'apost': 203, 'sword': 4319, 'sunnah': 4281, 'increas': 2181, 'imperi': 2160, 'percentag': 3274, 'tyrant': 4609, 'phoni': 3306, 'benefit': 420, 'haaretzcom': 1928, 'ilhaam': 2142, 'letter': 2577, 'creator': 1019, 'terrorist': 4405, 'command': 878, 'grovel': 1901, 'ground': 1899, 'brassidio': 544, 'religi': 3636, 'cleans': 811, 'dsyndergaard': 1298, 'isra': 2281, 'semit': 3893, 'warriorsialkot': 4796, 'islamist': 2274, 'riwir': 3716, 'asap': 250, 'izrinhariri': 2291, 'yousufpoosuf': 4964, 'rkingliv': 3720, 'danc': 1081, 'slaughter': 4041, 'behav': 410, 'vileislam': 4744, 'basimafays': 371, 'region': 3624, 'begin': 408, 'hillaryguess': 2029, 'microbrain': 2823, 'ag': 76, 'testament': 4407, 'hero': 2010, 'green': 1886, 'domin': 1252, 'conquer': 937, 'atharhkhan': 279, 'crusad': 1042, 'turkey': 4583, 'hitler': 2039, 'admir': 50, 'europ': 1445, 'central': 704, 'compass': 893, 'slaver': 4043, 'ctfleamarket': 1045, 'arabian': 218, 'penninsula': 3270, 'ap': 198, 'fraudul': 1703, 'mankind': 2701, 'third': 4451, 'extort': 1509, 'map': 2711, 'khybar': 2450, 'muhammad': 2926, 'hindus': 2031, 'pakistan': 3198, 'iftikharawan': 2135, 'buddhist': 586, 'border': 518, 'richarddawkin': 3698, 'islamophobia': 2277, 'naziphobia': 2975, 'valerianus': 4702, 'sibanda': 3991, 'tapson': 4362, 'coloni': 861, 'contribut': 956, 'fr': 1695, 'compoundmixtur': 903, 'cruisingby': 1040, 'rbassilian': 3577, 'proudpatriot': 3467, 'coexist': 840, 'koran': 2486, 'manual': 2707, 'pari': 3220, 'aberr': 7, 'theknowledg': 4432, 'nomcookiesnom': 3034, 'diversityrus': 1236, 'dictat': 1188, 'freedom': 1711, 'democraci': 1146, 'ezidi': 1516, 'iraq': 2255, 'ldstarr': 2539, 'ac': 23, 'nazi': 2974, 'damhan': 1076, 'hebdo': 1991, 'editor': 1338, 'built': 593, 'subject': 4249, 'strangeronfir': 4225, 'raqqa': 3563, 'sl': 4038, 'invad': 2239, 'sudixitca': 4262, 'wake': 4776, 'incoher': 2178, 'extend': 1505, 'luvshinecaf': 2660, 'bradybaggett': 539, 'anonheel': 180, 'outright': 3172, 'extremist': 1512, 'safeenss': 3796, 'chosen': 767, 'khaledhamaki': 2449, 'verg': 4722, 'poll': 3365, 'blab': 465, 'unbeliev': 4637, 'kewldevzzo': 2444, 'encourag': 1384, 'canon': 646, 'sevilzadeh': 3915, 'expedit': 1490, 'karen': 2420, 'armstrong': 234, 'worship': 4909, 'narrow': 2966, 'monger': 2889, 'behead': 413, 'baghdadi': 336, 'camillehugh': 635, 'mainstream': 2685, 'anthfieg': 186, 'cc': 693, 'toallahwereturn': 4493, 'void': 4761, 'empti': 1379, 'rupertmurdoch': 3782, 'ethnic': 1440, 'daesh': 1071, 'flee': 1645, 'gwer': 1925, 'dawla': 1101, 'filth': 1619, 'abu': 18, 'baraa': 360, 'english': 1394, 'symptom': 4327, 'synagogu': 4328, 'martyr': 2726, 'condemn': 914, 'method': 2815, 'glori': 1836, 'ib': 2116, 'edbarb': 1333, 'mosqu': 2902, 'immigr': 2157, 'export': 1501, 'citizen': 793, 'aspect': 263, 'ruwaydamustafah': 3787, 'harun': 1970, 'yahya': 4937, 'pkk': 3331, 'rescu': 3658, 'yezidi': 4957, 'manur': 2710, 'theblaz': 4419, 'sharethi': 3938, 'confront': 926, 'themuslimguy': 4437, 'ideaolog': 2126, 'cretin': 1024, 'own': 3182, 'allegi': 118, 'reza': 3688, 'rahman': 3539, 'repress': 3653, 'leftist': 2553, 'stevecorral': 4198, 'iamth': 2115, 'josephisvegan': 2376, 'apostaci': 204, 'guilti': 1917, 'taoist': 4360, 'nndabbour': 3028, 'load': 2618, 'iran': 2253, 'pyrrha': 3500, 'enzk': 1408, 'afghanistan': 69, 'taliban': 4353, 'allahu': 116, 'akbar': 96, 'hinduism': 2030, 'tao': 4359, 'judaism': 2390, 'buddhism': 585, 'pact': 3191, 'umar': 4624, 'blastedsilv': 478, 'almonitor': 126, 'mutil': 2943, 'nazism': 2976, 'throat': 4465, 'arabia': 217, 'thrown': 4467, 'rooftop': 3748, 'waddup': 4771, 'peddoc': 3262, 'cowardic': 998, 'maim': 2683, 'essel': 1431, 'rampag': 3549, 'holocaust': 2053, 'denier': 1152, 'trobinsonnewera': 4563, 'yuskan': 4976, 'rocket': 3734, 'press': 3414, 'instruct': 2219, 'peninsula': 3269, 'stolen': 4209, 'gruesom': 1907, 'countless': 987, 'area': 223, 'gripusa': 1896, 'afp': 70, 'kurd': 2500, 'lithobolo': 2612, 'zaibatsunew': 4982, 'retract': 3677, 'political': 3363, 'okieatheist': 3117, 'ewerickson': 1470, 'imperialist': 2161, 'creep': 1022, 'compuls': 906, 'va': 4697, 'wp': 4916, 'mantra': 2705, 'yk': 4959, 'neighbor': 2994, 'persecut': 3283, 'basi': 368, 'zahoorgorsi': 4981, 'silent': 4004, 'australian': 303, 'rudawenglish': 3770, 'shia': 3960, 'sunni': 4282, 'yemen': 4948, 'german': 1801, 'member': 2794, 'discov': 1216, 'ukr': 4620, 'iraqi': 2256, 'elect': 1359, 'leadership': 2542, 'scamp': 3842, 'faridxx': 1550, 'historian': 2036, 'independ': 2184, 'collabor': 851, 'fsa': 1725, 'ypg': 4966, 'secular': 3880, 'dorvaltoni': 1259, 'aymannathem': 325, 'trench': 4553, 'ibn': 2117, 'latif': 2526, 'colonel': 859, 'shami': 3930, 'catapult': 679, 'mortar': 2901, 'koban': 2483, 'hid': 2017, 'meccan': 2773, 'document': 1246, 'choudari': 768, 'lifeinkhilafah': 2591, 'fellow': 1586, 'discoveri': 1217, 'superstit': 4290, 'oc': 3098, 'algebra': 106, 'greek': 1885, 'indian': 2187, 'progress': 3447, 'begun': 409, 'injustic': 2205, 'ak': 94, 'weapon': 4816, 'curdistani': 1055, 'jihadii': 2344, 'akel': 97, 'saruman': 3824, 'hunt': 2104, 'poverti': 3392, 'abuyigitalcahrz': 21, 'leonardomaxwel': 2571, 'knife': 2475, 'prayer': 3402, 'historyscop': 2037, 'halima': 1946, 'johnnygjokaj': 2368, 'cdnkhadija': 695, 'bilalighumman': 445, 'rfrankh': 3690, 'dk': 1241, 'odiniainvictus': 3102, 'israeliregim': 2283, 'org': 3157, 'seek': 3883, 'elsewher': 1367, 'owner': 3183, 'sanction': 3814, 'jihadia': 2343, 'amandasheil': 137, 'arabthom': 219, 'sirajzarook': 4019, 'sajid': 3801, 'fairooz': 1533, 'ingyusarm': 2201, 'bow': 529, 'contain': 950, 'fix': 1636, 'tribe': 4557, 'traitor': 4538, 'jw': 2413, 'islamicst': 2273, 'dabiq': 1069, 'totenleserin': 4521, 'countrysid': 989, 'friday': 1716, 'lion': 2603, 'caliphfaggoti': 625, 'savag': 3837, 'greec': 1884, 'launch': 2528, 'treatment': 4550, 'gulf': 1918, 'taqiyya': 4363, 'peach': 3260, 'kenroth': 2440, 'vulner': 4769, 'umarm': 4626, 'toilet': 4499, 'oil': 3114, 'colon': 858, 'resourc': 3665, 'citywolf': 794, 'daeshbag': 1072, 'sanctimoni': 3813, 'agenda': 78, 'impoverish': 2167, 'biggot': 440, 'aliabdalhamid': 109, 'saraewilliam': 3818, 'davidjo': 1098, 'kathi': 2426, 'isil': 2270, 'core': 972, 'pamelagel': 3205, 'featur': 1576, 'cage': 621, 'ashia': 256, 'usc': 4684, 'databas': 1092, 'rico': 3699, 'obsurf': 3096, 'classifi': 808, 'roflmao': 3736, 'patvpet': 3247, 'wolfspirit': 4893, 'nuzz': 3079, 'wave': 4807, 'theatlant': 4418, 'teddyboylocsin': 4386, 'tweetybird': 4593, 'heavili': 1990, 'worthless': 4913, 'bedouin': 401, 'spite': 4139, 'wealthi': 4815, 'cia': 783, 'westernreview': 4834, 'bard': 364, 'clarifi': 801, 'loveconcursal': 2646, 'humanitarian': 2096, 'manpow': 2703, 'loot': 2635, 'mus': 2934, 'patdollard': 3237, 'ramadi': 3547, 'buttercupashbi': 612, 'ono': 3135, 'madasahatt': 2674, 'alternet': 133, 'onelegsandpip': 3133, 'dblblackd': 1104, 'accomplish': 27, 'nativ': 2970, 'ararmah': 220, 'wire': 4875, 'robfit': 3730, 'demograph': 1148, 'captur': 658, 'wilyton': 4866, 'sentomcotton': 3902, 'jmorgan': 2358, 'jami': 2302, 'abunaseeha': 19, 'torch': 4514, 'ramiallolah': 3548, 'vandalis': 4708, 'golden': 1849, 'warraq': 4793, 'technolog': 4385, 'ui': 4618, 'mountain': 2909, 'usa': 4682, 'mushroom': 2937, 'militia': 2834, 'peshmerga': 3289, 'solid': 4087, 'secur': 3881, 'etsho': 1442, 'sumersloan': 4273, 'pawarnhoff': 3252, 'assad': 266, 'nuke': 3074, 'zorazzora': 4995, 'zackbeauchamp': 4978, 'graphic': 1875, 'growth': 1905, 'huffpostrelig': 2090, 'worldwid': 4905, 'mega': 2785, 'disast': 1211, 'faith': 1534, 'rayandawlah': 3573, 'lililllililli': 2597, 'transport': 4543, 'nobel': 3029, 'ansaralummah': 184, 'freaki': 1706, 'qoloob': 3507, 'corps': 976, 'japan': 2308, 'barackobama': 361, 'ritzi': 3713, 'jewel': 2336, 'lee': 2551, 'ukrain': 4621, 'joritson': 2375, 'pperrin': 3394, 'jacquard': 2296, 'loveussr': 2648, 'chat': 727, 'ibnabdulmajid': 2118, 'nebula': 2985, 'chain': 710, 'syria': 4332, 'spi': 4134, 'egyptian': 1354, 'unarm': 4634, 'kuffir': 2497, 'raymondarroyo': 3574, 'coldkurd': 845, 'villag': 4745, 'km': 2471, 'abyad': 22, 'uniform': 4654, 'syrian': 4333, 'storm': 4218, 'arrest': 238, 'cold': 844, 'israelit': 2284, 'cnn': 831, 'lahavharkov': 2513, 'aliyaist': 114, 'jerusalem': 2329, 'bandera': 352, 'hal': 1940, 'gerardgeorg': 1800, 'global': 1835, 'theinfoislam': 4430, 'cantli': 649, 'dawlatnamansura': 1102, 'devic': 1179, 'bullet': 595, 'ajwatamr': 92, 'cloud': 824, 'paraketa': 3216, 'washingtonpost': 4800, 'divid': 1237, 'auspol': 299, 'geeki': 1783, 'zekey': 4985, 'tomorrow': 4505, 'amymek': 155, 'ggreenwald': 1809, 'jrehl': 2387, 'nafisa': 2957, 'fatimafatwa': 1563, 'es': 1423, 'udi': 4612, 'lunat': 2658, 'rang': 3555, 'occupi': 3100, 'withtrish': 4883, 'discerningmumin': 1213, 'disrupt': 1230, 'provoc': 3472, 'mcr': 2761, 'haqq': 1959, 'establish': 1433, 'consum': 948, 'resist': 3663, 'dhimmi': 1184, 'algerianwit': 107, 'woke': 4892, 'bleed': 480, 'ravenhuwolf': 3570, 'munthir': 2931, 'copenhagen': 969, 'watan': 4803, 'photoshop': 3308, 'rsantorini': 3764, 'passu': 3232, 'truaemus': 4567, 'mattybboi': 2749, 'batchelorshow': 374, 'edgeofthesandbx': 1334, 'feardept': 1574, 'shehzilk': 3946, 'afghan': 68, 'iltafshehzad': 2148, 'torah': 4513, 'fascist': 1556, 'trip': 4560, 'mask': 2732, 'buddha': 584, 'enabl': 1381, 'unaccept': 4632, 'lone': 2630, 'quest': 3516, 'hug': 2091, 'juke': 2396, 'turkish': 4584, 'erdogan': 1417, 'bbcnew': 380, 'turk': 4582, 'sibelo': 3994, 'fallaci': 1538, 'dealt': 1112, 'alwiss': 136, 'jihadist': 2345, 'christophh': 773, 'zionist': 4989, 'perpetu': 3282, 'ching': 757, 'libya': 2587, 'bintstrang': 452, 'ziorim': 4990, 'median': 2778, 'rushetteni': 3784, 'banko': 357, 'grave': 1879, 'keegannyc': 2433, 'syedmuhammad': 4324, 'je': 2320, 'phobia': 3304, 'condit': 916, 'spring': 4154, 'jourisra': 2379, 'jncatron': 2359, 'brotherhood': 567, 'fei': 1583, 'cleric': 813, 'sun': 4276, 'graduat': 1869, 'dos': 1260, 'faheemhus': 1527, 'jackmjenkin': 2295, 'scholar': 3849, 'pre': 3403, 'mecca': 2772, 'abrog': 13, 'shine': 3963, 'invitetoislam': 2245, 'shown': 3985, 'domest': 1251, 'chechen': 731, 'ki': 2451, 'sultan': 4270, 'texa': 4409, 'nrllhkose': 3069, 'testimoni': 4408, 'rl': 3722, 'mwforhr': 2945, 'fauxnew': 1565, 'bebird': 395, 'lvview': 2661, 'submiss': 4250, 'twitterkurd': 4601, 'ghandi': 1810, 'levantin': 2578, 'librari': 2586, 'euklidproof': 1444, 'cherguiambark': 738, 'zakirnaikirf': 4984, 'various': 4711, 'rogu': 3738, 'regim': 3623, 'constitut': 946, 'gaza': 1775, 'stream': 4230, 'sectarian': 3878, 'iamcaticorn': 2113, 'permit': 3281, 'slowli': 4054, 'arrowsmithwoman': 241, 'ez': 1515, 'idol': 2132, 'assyrian': 276, 'diff': 1195, 'iyad': 2290, 'elbaghdadi': 1358, 'ummahwit': 4628, 'portray': 3379, 'asoodalrafidain': 262, 'tti': 4576, 'congressman': 932, 'palestin': 3201, 'optimist': 3153, 'diet': 1194, 'carolinefourest': 668, 'yusufpeac': 4977, 'tummala': 4578, 'indyvoic': 2191, 'balanc': 343, 'logicalmind': 2625, 'clashoftherat': 804, 'associ': 273, 'web': 4819, 'samihnewsam': 3810, 'ottoman': 3165, 'kidnap': 2456, 'tikrit': 4476, 'annebayefski': 174, 'nickkristof': 3018, 'flavor': 1642, 'arisroussino': 228, 'bruciebab': 573, 'shrink': 3988, 'apartheid': 200, 'copt': 971, 'abbswinston': 5, 'andyblueskyz': 165, 'chezkig': 742, 'edulixavot': 1342, 'georgegalloway': 1798, 'ericcartmanfat': 1418, 'bdssupport': 384, 'ra': 3529, 'vc': 4713, 'mp': 2914, 'flood': 1650, 'bandwidth': 353, 'max': 2751, 'birdstl': 455, 'murdamookez': 2932, 'oppon': 3147, 'roof': 3747, 'nuritbaytch': 3076, 'ardiem': 222, 'oldkhayyam': 3123, 'alfonso': 105, 'araujog': 221, 'asem': 251, 'enlighten': 1396, 'cd': 694, 'urgedharri': 4677, 'pve': 3496, 'proud': 3466, 'horseshit': 2069, 'md': 2762, 'rudd': 3771, 'pjnet': 3329, 'xwjzpsodgj': 4934, 'kaya': 2430, 'irrat': 2263, 'fai': 1528, 'maddr': 2675, 'fucker': 1728, 'knive': 2477, 'alihadi': 112, 'rudoren': 3775, 'nytim': 3085, 'cameron': 632, 'neo': 2996, 'aliabunimah': 110, 'nafeezahm': 2956, 'nader': 2955, 'haq': 1958, 'isham': 2268, 'alassad': 101, 'furious': 1741, 'beck': 397, 'stevesalaita': 4200, 'cmfoozwxz': 830, 'ottomanland': 3166, 'authoritarian': 305, 'groom': 1897, 'saeed': 3793, 'daradebrun': 1086, 'farooqsumar': 1553, 'campagnebd': 637, 'ador': 54, 'norm': 3044, 'ptisalarkhan': 3477, 'bibl': 434, 'selenakhan': 3887, 'gob': 1842, 'adnansadiq': 52, 'rubiconski': 3769, 'stp': 4220, 'nmjzri': 3027, 'pa': 3186, 'warp': 4792, 'massacr': 2734, 'fa': 1518, 'harmlesstre': 1966, 'bm': 501, 'charl': 722, 'africa': 72, 'malek': 2692, 'ason': 261, 'rayyoosheh': 3575, 'inrevers': 2208, 'pnibbler': 3350, 'assiy': 272, 'dozen': 1267, 'halalfam': 1942, 'rumor': 3779, 'ahlefar': 86, 'tawheednetwork': 4372, 'mutasawwif': 2941, 'collater': 853, 'stood': 4213, 'michaelpl': 2819, 'fraction': 1696, 'roisin': 3741, 'morgan': 2898, 'mutludc': 2944, 'philipmil': 3302, 'psychbarakat': 3476, 'shadow': 3927, 'waffl': 4773, 'peymaneh': 3299, 'anasmechch': 158, 'mehdirhasan': 2787, 'tnr': 4492, 'poop': 3369, 'ratio': 3568, 'jordanian': 2374, 'yrs': 4969, 'function': 1735, 'bangladesh': 355, 'uq': 4674, 'ajziont': 93, 'railgirl': 3543, 'lyndag': 2665, 'schedul': 3847, 'donttreadonm': 1257, 'castro': 677, 'zaki': 4983, 'safar': 3794, 'jameeljaff': 2300, 'blogger': 490, 'hoosierjason': 2061, 'ciomdx': 786, 'santa': 3816, 'harikondabolu': 1964, 'demon': 1149, 'server': 3908, 'stamp': 4171, 'bbc': 379, 'district': 1233, 'vk': 4754, 'imacelebrityau': 2150, 'mate': 2740, 'locat': 2621, 'whittl': 4849, 'chickeni': 746, 'jane': 2305, 'shake': 3928, 'lyn': 2664, 'element': 1361, 'guest': 1914, 'ohmyloz': 3112, 'overkil': 3178, 'septemb': 3904, 'hotpot': 2075, 'turd': 4581, 'entr': 1405, 'compromis': 905, 'etern': 1437, 'cous': 993, 'yum': 4972, 'pastri': 3235, 'stuf': 4243, 'shark': 3941, 'housem': 2078, 'gbo': 1779, 'tin': 4483, 'chees': 734, 'comeback': 872, 'ismisecaz': 2279, 'ip': 2249, 'pwafork': 3498, 'dine': 1202, 'sunris': 4283, 'redempt': 3612, 'twenti': 4595, 'apart': 199, 'venu': 4721, 'entre': 1406, 'witb': 4879, 'fark': 1551, 'recal': 3598, 'goodby': 1853, 'tune': 4579, 'christma': 772, 'helena': 2002, 'vikki': 4742, 'dave': 1095, 'advertis': 59, 'drain': 1272, 'journey': 2382, 'june': 2401, 'becpobji': 399, 'affect': 66, 'jess': 2330, 'restaraunt': 3670, 'bunni': 600, 'suzannecarbon': 4302, 'south': 4117, 'msloulou': 2921, 'eccl': 1329, 'lunch': 2659, 'zoutliquoric': 4996, 'yay': 4941, 'quarter': 3513, 'phrase': 3309, 'paus': 3251, 'ridic': 3702, 'er': 1415, 'bugger': 591, 'thefixninemsn': 4426, 'tail': 4345, 'eyebal': 1514, 'tsk': 4574, 'ef': 1346, 'edibl': 1336, 'yessssss': 4952, 'sharonpiggott': 3942, 'underestim': 4643, 'irish': 2257, 'tacki': 4340, 'xd': 4929, 'peteevansnot': 3294, 'syd': 4322, 'jan': 2304, 'print': 3426, 'ring': 3708, 'swim': 4316, 'sherri': 3956, 'combo': 869, 'squishilici': 4159, 'bookshopaddict': 515, 'danandmaz': 1080, 'min': 2838, 'selv': 3892, 'transit': 4541, 'combin': 868, 'owe': 3181, 'ho': 2042, 'theblock': 4420, 'cookbook': 965, 'eff': 1347, 'anonym': 182, 'rough': 3760, 'herb': 2009, 'lift': 2592, 'ikea': 2141, 'snarki': 4071, 'scrape': 3855, 'hurri': 2106, 'rush': 3783, 'confid': 921, 'bean': 386, 'paulhaydon': 3249, 'jo': 2360, 'warn': 4790, 'qld': 3504, 'poke': 3357, 'gut': 1921, 'habit': 1929, 'patch': 3236, 'roast': 3725, 'oxygen': 3184, 'ingredi': 2200, 'tob': 4495, 'ewww': 1471, 'parad': 3215, 'vl': 4755, 'strap': 4226, 'headlin': 1980, 'creepi': 1023, 'mm': 2866, 'clip': 819, 'stephupperlip': 4195, 'tote': 4520, 'typo': 4608, 'rj': 3717, 'alright': 131, 'snape': 4070, 'insta': 2215, 'qanda': 3501, 'undercook': 4642, 'chocol': 761, 'coffe': 841, 'til': 4477, 'masterchef': 2738, 'restrict': 3673, 'succeed': 4256, 'consist': 943, 'recap': 3599, 'evaanddebra': 1450, 'perth': 3286, 'tea': 4378, 'soggi': 4083, 'bread': 545, 'nowher': 3064, 'annieandlloyd': 176, 'crackl': 1007, 'jfc': 2338, 'spoon': 4146, 'excess': 1479, 'rosti': 3756, 'liver': 2615, 'nerv': 2999, 'flirt': 1648, 'ding': 1203, 'sauerkraut': 3835, 'gorgeous': 1858, 'lamb': 2515, 'crew': 1025, 'fourinhandhotel': 1691, 'diamond': 1185, 'comeupp': 875, 'expens': 1492, 'sting': 4204, 'rr': 3763, 'manner': 2702, 'rot': 3757, 'drown': 1292, 'goggleboxau': 1846, 'blatant': 479, 'shaz': 3944, 'helenaandvikki': 2003, 'congrat': 928, 'liljohnni': 2598, 'takingyouhom': 4349, 'birthday': 457, 'monday': 2887, 'extens': 1506, 'partial': 3225, 'yummi': 4974, 'award': 317, 'dan': 1079, 'garlic': 1765, 'bonus': 512, 'melbourn': 2789, 'carol': 667, 'stress': 4233, 'stake': 4168, 'mid': 2825, 'capt': 655, 'salti': 3808, 'thursday': 4470, 'jetstar': 2334, 'upcom': 4666, 'request': 3656, 'absorb': 15, 'jac': 2292, 'mount': 2908, 'arna': 235, 'immun': 2158, 'ashandcamilla': 254, 'immens': 2156, 'fassnidg': 1558, 'impact': 2159, 'condon': 917, 'meltdown': 2793, 'rejoic': 3628, 'desk': 1167, 'tie': 4473, 'fml': 1653, 'ughhhh': 4615, 'oscar': 3161, 'colincowel': 849, 'bacon': 333, 'cz': 1067, 'etrq': 1441, 'qxjih': 3528, 'suddendeath': 4261, 'gozlem': 1865, 'crabfest': 1004, 'peteevan': 3293, 'stephenatwar': 4194, 'mentor': 2802, 'shoutout': 3980, 'ie': 2134, 'lean': 2545, 'awwww': 324, 'jj': 2354, 'darl': 1090, 'tasteofsydney': 4369, 'priceless': 3421, 'seven': 3913, 'camila': 633, 'legitim': 2559, 'salmon': 3805, 'wild': 4860, 'sunburnt': 4278, 'hg': 2015, 'mapl': 2712, 'muscl': 2935, 'ouch': 3167, 'disneyland': 1226, 'hah': 1933, 'folk': 1658, 'buddi': 587, 'cardboard': 663, 'lauren': 2530, 'beehiv': 404, 'insight': 2212, 'cupcak': 1052, 'unicorn': 4653, 'audit': 296, 'wd': 4811, 'fritter': 1718, 'spittoon': 4140, 'exhaust': 1486, 'urg': 4676, 'peopleschoic': 3272, 'jameslikesowl': 2301, 'inappropri': 2173, 'on': 3129, 'strand': 4222, 'beer': 405, 'mmmmm': 2869, 'circl': 787, 'sweetheart': 4311, 'entri': 1407, 'station': 4184, 'scrub': 3864, 'boyz': 538, 'hidden': 2018, 'keu': 2443, 'cit': 790, 'surround': 4297, 'quinoa': 3524, 'veget': 4716, 'worker': 4903, 'rosi': 3755, 'concret': 913, 'fn': 1654, 'cap': 650, 'marg': 2715, 'crowd': 1038, 'su': 4248, 'retir': 3676, 'hotcak': 2074, 'mickystr': 2821, 'epic': 1410, 'firebomb': 1629, 'committ': 883, 'ooo': 3139, 'binksterb': 451, 'iv': 2289, 'feta': 1604, 'frost': 1721, 'wall': 4779, 'yumchaaddict': 4973, 'irl': 2259, 'wadhwa': 4772, 'stopwadhwa': 4215, 'desertfox': 1163, 'shanley': 3933, 'weev': 4825, 'ameliagreenhal': 142, 'wilkieii': 4861, 'denniscearl': 1153, 'travel': 4547, 'ncweaver': 2979, 'vivek': 4752, 'flyfishidaho': 1652, 'tree': 4551, 'randi': 3553, 'harper': 1968, 'jbradfield': 2317, 'pailofawesom': 3194, 'professorf': 3443, 'chrisvcsefalvay': 774, 'gamergat': 1757, 'ethic': 1439, 'newsweek': 3010, 'zython': 4999, 'collus': 857, 'ashleylynch': 257, 'baph': 358, 'myersnfl': 2950, 'xor': 4932, 'sarahjeong': 3820, 'vivian': 4753, 'tran': 4539, 'secretgamergrrl': 3877, 'quinna': 3523, 'moon': 2895, 'sadsuspend': 3792, 'kaitlynburnel': 2416, 'ethelmonst': 1438, 'iglvzx': 2137, 'hollapalooka': 2051, 'shanselman': 3934, 'nerd': 2997, 'mall': 2693, 'mariachimacabr': 2718, 'cernowatch': 707, 'freebsd': 1709, 'corpor': 975, 'dylanw': 1312, 'heh': 1997, 'korvi': 2488, 'devslashzero': 1182, 'cranboonitz': 1008, 'doxx': 1266, 'iammatticus': 2114, 'dogpil': 1249, 'mcfartl': 2760, 'wetsprocket': 4835, 'gio': 1819, 'github': 1824, 'autoblock': 307, 'limbclock': 2599, 'gator': 1770, 'afford': 67, 'thequinnspiraci': 4440, 'glennf': 1831, 'ebook': 1328, 'swell': 4314, 'bryneaux': 578, 'kryten': 2493, 'ggautoblock': 1808, 'sschink': 4162, 'krysemlyn': 2492, 'buzzfe': 616, 'qj': 3502, 'alexlifschitz': 104, 'alain': 100, 'vde': 4715, 'chriswarcraft': 775, 'io': 2247, 'bitbecca': 460, 'conf': 919, 'npo': 3066, 'fcc': 1572, 'motion': 2906, 'ii': 2139, 'util': 4692, 'gamergatetxt': 1758, 'playdanger': 3340, 'gater': 1769, 'trigger': 4559, 'metacookbook': 2811, 'sigj': 4000, 'knee': 2473, 'chilblan': 750, 'adderal': 45, 'realityforg': 3589, 'pref': 3407, 'bright': 556, 'scudscorp': 3866, 'tb': 4374, 'thatsabinegirl': 4416, 'chan': 713, 'harm': 1965, 'jcmanous': 2318, 'perl': 3279, 'consequ': 940, 'sunkensometh': 4280, 'lrt': 2652, 'blackamazon': 467, 'notallbha': 3053, 'slagkick': 4039, 'freedominguez': 1712, 'kickstart': 2454, 'foss': 1683, 'girlziplock': 1823, 'api': 201, 'sarkeesian': 3823, 'dev': 1177, 'leo': 2568, 'ncoghlan': 2978, 'crashoverridenw': 1011, 'facebook': 1520, 'devop': 1181, 'hehe': 1998, 'patreon': 3241, 'melect': 2790, 'ident': 2127, 'ceo': 706, 'sector': 3879, 'keynot': 2447, 'judgment': 2393, 'donat': 1254, 'attach': 286, 'heavi': 1989, 'inde': 2183, 'mascot': 2729, 'blizzard': 484, 'prpltnkr': 3473, 'dismiss': 1225, 'ensler': 1399, 'settler': 3912, 'queer': 3515, 'erinspic': 1421, 'chiefelk': 749, 'govern': 1863, 'markov': 2722, 'kaylinevergreen': 2431, 'portland': 3378, 'drakino': 1273, 'gamerfortruth': 1755, 'evvykub': 1468, 'attribut': 293, 'anderson': 161, 'menz': 2804, 'hownowgobbycow': 2082, 'roguestar': 3740, 'ks': 2494, 'leak': 2544, 'rted': 3765, 'digirang': 1200, 'skawtnyc': 4031, 'neat': 2984, 'statsd': 4186, 'graphit': 1876, 'cheeseplus': 735, 'obfuscur': 3090, 'bsd': 580, 'svu': 4305, 'garrison': 1766, 'kaivaxblizzard': 2417, 'amazon': 140, 'arena': 224, 'gemmanoon': 1787, 'stockputout': 4207, 'renam': 3647, 'gear': 1781, 'california': 623, 'kgasso': 2448, 'tpw': 4529, 'mattjbaldo': 2747, 'northern': 3047, 'softsurv': 4081, 'river': 3715, 'buri': 601, 'athenahollow': 282, 'silvermillsi': 4007, 'qq': 3508, 'vex': 4727, 'rian': 3693, 'blackmilk': 472, 'raikonl': 3542, 'peasant': 3261, 'thedaveca': 4422, 'error': 1422, 'gdc': 1780, 'ruderzz': 3773, 'exp': 1488, 'xp': 4933, 'whelp': 4842, 'spare': 4123, 'swiftonsecur': 4315, 'jonrosenberg': 2371, 'restart': 3671, 'fond': 1660, 'user': 4687, 'onebrightlight': 3131, 'hfoatfbk': 2014, 'url': 4678, 'admin': 49, 'onthemedia': 3136, 'kuniko': 2498, 'hm': 2040, 'mjg': 2864, 'grafana': 1870, 'blockbot': 487, 'oolon': 3138, 'pseudonym': 3475, 'json': 2389, 'updat': 4667, 'client': 817, 'irt': 2266, 'configur': 922, 'graph': 1874, 'informationchef': 2198, 'matrix': 2743, 'davidsgal': 1100, 'incid': 2175, 'monitor': 2890, 'redi': 3613, 'stormsonsaturn': 4219, 'signal': 4002, 'blackgirldang': 468, 'usb': 4683, 'brentonpok': 553, 'shjade': 3970, 'tsundererag': 4575, 'prioriti': 3427, 'pattern': 3246, 'blacklist': 470, 'maxwelltolvo': 2754, 'uniqu': 4656, 'eng': 1391, 'metadata': 2812, 'gv': 1923, 'govt': 1864, 'tomdcc': 4504, 'classist': 809, 'dominictarason': 1253, 'edroach': 1339, 'necessarili': 2987, 'teh': 4391, 'maxh': 2753, 'privaci': 3429, 'screenshot': 3860, 'userbas': 4688, 'similar': 4008, 'pravana': 3399, 'countdown': 985, 'senior': 3896, 'cob': 834, 'sibbysoyabean': 3992, 'mod': 2875, 'screencap': 3859, 'macbook': 2671, 'girldevweek': 1821, 'nero': 2998, 'glinner': 1832, 'hobbi': 2043, 'wat': 4802, 'seanbonn': 3872, 'userid': 4689, 'primari': 3424, 'amydentata': 154, 'substanc': 4253, 'calmicc': 628, 'taitaisanchez': 4346, 'jurijuri': 2403, 'grownup': 1904, 'ladylik': 2512, 'coil': 842, 'jeremiahfelt': 2327, 'softwar': 4082, 'instal': 2216, 'agqueu': 81, 'cape': 652, 'sirgoldenrod': 4020, 'superhero': 4285, 'museum': 2936, 'manami': 2696, 'eeve': 1344, 'aton': 285, 'unintent': 4655, 'proon': 3455, 'ddos': 1106, 'coconono': 838, 'cbcradioq': 692, 'youfoundthecard': 4961, 'turquois': 4586, 'pastel': 3234, 'milfgaardian': 2831, 'unix': 4659, 'kencf': 2439, 'georgieonthego': 1799, 'sakjur': 3803, 'sq': 4155, 'distribut': 1232, 'filmpunk': 1617, 'backpack': 331, 'gentlermous': 1795, 'voretaq': 4765, 'jasonbentley': 2315, 'wander': 4781, 'benkuchera': 421, 'ilovegarick': 2147, 'hypatiadotca': 2110, 'celiadeet': 698, 'np': 3065, 'nois': 3032, 'warrenleighttv': 4794, 'nys': 3084, 'lawandordersvu': 2533, 'fygm': 1744, 'zoe': 4993, 'thaumatropia': 4417, 'shaofhappi': 3935, 'sierra': 3997, 'tldr': 4490, 'supernova': 4288, 'bcz': 383, 'cxar': 1065, 'capabl': 651, 'bat': 373, 'metafilt': 2813, 'tarah': 4365, 'justkelli': 2410, 'andaasonsan': 160, 'path': 3238, 'jarl': 2313, 'kaytheproblem': 2432, 'jhambi': 2340, 'popehat': 3372, 'invest': 2242, 'warcraft': 4786, 'marytrigiani': 2728, 'sweharri': 4313, 'sunburn': 4277, 'exclus': 1483, 'zn': 4992, 'februari': 1577, 'bxyghtfpk': 617, 'jsigj': 2388, 'oakland': 3086, 'caulkthewagon': 687, 'shereeni': 3952, 'heal': 1981, 'pvp': 3497, 'lucaswj': 2654, 'disc': 1212, 'bgs': 431, 'snipeyhead': 4074, 'allieemors': 122, 'omglazerkitten': 3128, 'gw': 1924, 'cherri': 739, 'uplay': 4668, 'log': 2623, 'login': 2626, 'hacker': 1931, 'substanti': 4254, 'interfac': 2232, 'voyag': 4767, 'paperwhit': 3212, 'delay': 1138, 'grummz': 1908, 'ps': 3474, 'clarkhat': 802, 'passiv': 3231, 'metroidthief': 2816, 'superspacedad': 4289, 'discordiankitti': 1215, 'yjoyd': 4958, 'uber': 4610, 'indic': 2188, 'kaiser': 2415, 'lynnmag': 2668, 'hestiahdruid': 2011, 'awizardsbeard': 320, 'gewt': 1805, 'abisinsur': 9, 'lenovo': 2567, 'pocki': 3352, 'asus': 277, 'paycheck': 3255, 'roguest': 3739, 'escal': 1424, 'kelseytheodor': 2438, 'xabad': 4927, 'dea': 1108, 'mwlauthor': 2946, 'bsdcan': 581, 'kirindav': 2465, 'budget': 588, 'jillwetzl': 2348, 'token': 4500, 'cperciva': 1002, 'frank': 1699, 'uppiti': 4671, 'zahnster': 4980, 'queen': 3514, 'stanford': 4175, 'stanfordm': 4176, 'wikipedia': 4859, 'polygon': 3366, 'oooo': 3141, 'stack': 4165, 'turbocunt': 4580, 'gaminglennseto': 1759, 'bart': 366, 'holinka': 2050, 'xmjee': 4931, 'doctorow': 1245, 'dsmyx': 1297, 'theblockbot': 4421, 'teeyouve': 4390, 'puppi': 3488, 'chickowit': 747, 'andreafauld': 163, 'arthur': 246, 'navig': 2972, 'animecommentari': 170, 'mcclure': 2758, 'ghazi': 1811, 'sfthewolf': 3924, 'vodag': 4758, 'pendragontarot': 3268, 'blizzcon': 485, 'shriekapotomo': 3987, 'esqu': 1429, 'beardyblu': 390, 'jwyoder': 2414, 'frantic': 1701, 'mattstratton': 2748, 'adjust': 48, 'nayadrikj': 2973, 'tpstiger': 4528, 'meaning': 2765, 'ql': 3503, 'deathofrat': 1117, 'jaredchas': 2312, 'ninaburleigh': 3024, 'peerwork': 3265, 'phd': 3300, 'voiceofra': 4760, 'thedress': 4424, 'pu': 3478, 'zynga': 4998, 'leonard': 2570, 'lb': 2537, 'gmshiver': 1838, 'strength': 4232, 'flag': 1638, 'squad': 4156, 'jennofhardwir': 2325, 'kotaku': 2489, 'intel': 2224, 'zeynep': 4987, 'tweetdeck': 4592, 'svn': 4304, 'os': 3160, 'osw': 3162, 'tmclaughbo': 4491, 'warlord': 4788, 'nedgilmor': 2989, 'resid': 3662, 'armor': 232, 'pall': 3203, 'igda': 2136, 'thedoubleclick': 4423, 'qmarq': 3506, 'wonderwoman': 4898, 'convent': 959, 'bidetofevil': 435, 'sherirubin': 3954, 'twoscoot': 4603, 'oapi': 3087, 'nonprofit': 3040, 'mala': 2690, 'timoflegend': 4482, 'cactus': 620, 'logo': 2627, 'gameload': 1753, 'mistertodd': 2860, 'drawn': 1279, 'juliaferraioli': 2397, 'nite': 3026, 'moogl': 2894, 'glassresistor': 1829, 'thereaibanksi': 4441, 'pax': 3253, 'tab': 4337, 'trentmkay': 4555, 'drurbanski': 1295, 'pos': 3380, 'input': 2207, 'cigardubey': 784, 'vent': 4720, 'shervyn': 3957, 'packag': 3189, 'pixelfish': 3326, 'wod': 4891, 'luckili': 2657, 'glitchdream': 1833, 'ov': 3175, 'deray': 1157, 'ye': 4943, 'net': 3001, 'darktechmonitor': 1089, 'satoshiksutra': 3831, 'petecheslock': 3292, 'cocker': 837, 'crate': 1012, 'sloshedtrain': 4052, 'themirai': 4436, 'moldybar': 2881, 'chaeronaea': 709, 'mja': 2862, 'basicmountain': 370, 'sysinstal': 4334, 'kern': 2442, 'xjare': 4930, 'delaney': 1137, 'brownbagpantri': 571, 'lauriejwillberg': 2531, 'nscottg': 3070, 'samr': 3812, 'essay': 1430, 'thenativeboy': 4438, 'zaenbassem': 4979, 'miskelayla': 2852, 'peterclifford': 3296, 'mummyyjoy': 2930, 'nusra': 3077, 'invas': 2240, 'ukrainian': 4622, 'insuffer': 2220, 'nworyzen': 3081, 'joanneleon': 2361, 'soviet': 4118, 'dirtytruth': 1207, 'medicin': 2780, 'mikeprysn': 2829, 'goosenetworkusa': 1855, 'fascism': 1555, 'baiji': 339, 'airstrik': 90, 'davidlongshor': 1099, 'hedbo': 1993, 'deirezzor': 1136, 'explos': 1500, 'reinforc': 3626, 'jizyacollector': 2353, 'bakr': 342, 'jank': 2306, 'patrickosgood': 3244, 'fertil': 1602, 'paulo': 3250, 'clash': 803, 'redbrasco': 3609, 'kurdistan': 2503, 'kobani': 2485, 'shingal': 3964, 'upanishad': 4665, 'jrcallsthenew': 2385, 'allison': 123, 'furiechicago': 1740, 'steeevi': 4192, 'lw': 2662, 'blackglass': 469, 'reddroostermann': 3611, 'rconflictnew': 3578, 'convoy': 963, 'helpless': 2007, 'rudhoeenglish': 3774, 'iranian': 2254, 'ypj': 4967, 'pesh': 3288, 'hevallo': 2012, 'held': 2001, 'ezidipress': 1517, 'chuckpfarr': 779, 'edt': 1340, 'bijikurdistan': 443, 'kobanebattlemap': 2484, 'coalit': 833, 'chlorin': 760, 'warthog': 4797, 'dumuzi': 1306, 'chemic': 737, 'danieleraineri': 1084, 'issa': 2285, 'saifullah': 3800, 'kurda': 2501, 'foreignaffair': 1671, 'armenian': 230, 'ancient': 159, 'jazeera': 2316, 'somersert': 4094, 'jihatweanbarwea': 2347, 'kirkuk': 2466, 'shred': 3986, 'gandhi': 1760, 'rkhayer': 3719, 'bahai': 338, 'greta': 1889, 'cracker': 1006, 'troop': 4565, 'hostag': 2072, 'revenu': 3682, 'januari': 2307, 'houthi': 2080, 'provinc': 3471, 'franosch': 1700, 'alloochara': 124, 'upper': 4670, 'asad': 249, 'shariaunveil': 3940, 'roman': 3745, 'grad': 1868, 'yanukovich': 4939, 'masha': 2731, 'gessen': 1803, 'stalin': 4169, 'realryansippl': 3592, 'rileysometh': 3707, 'conscious': 938, 'edwardmdblog': 1343, 'jarablus': 2311, 'rojava': 3742, 'radial': 3534, 'momentum': 2885, 'rjennromao': 3718, 'novorossiyan': 3063, 'gbabeuf': 1777, 'gbazov': 1778, 'newscoverup': 3009, 'rougek': 3759, 'misgrac': 2851, 'hunterewilliam': 2105, 'ava': 310, 'millermena': 2836, 'derekbisaccio': 1158, 'weaken': 4813, 'warner': 4791, 'chameleon': 712, 'inherit': 2202, 'comcast': 870, 'burqua': 605, 'melbieb': 2788, 'thorsprovoni': 4456, 'sibeledmond': 3993, 'gymnast': 1926, 'notalleveryth': 3054, 'lennyfinnegan': 2566, 'rice': 3695, 'carriepott': 671, 'rhetor': 3692, 'highkush': 2024, 'jrdnvns': 2386, 'han': 1950, 'jod': 2363, 'aarondagloria': 2, 'heidi': 2000, 'grrrr': 1906}\n"
     ]
    }
   ],
   "source": [
    "print(Tfidf_vect.vocabulary_)"
   ]
  },
  {
   "cell_type": "code",
   "execution_count": 19,
   "metadata": {},
   "outputs": [
    {
     "name": "stdout",
     "output_type": "stream",
     "text": [
      "  (0, 4895)\t0.174227622113\n",
      "  (0, 3949)\t0.356996885455\n",
      "  (0, 3930)\t0.33253534378\n",
      "  (0, 3091)\t0.337987687719\n",
      "  (0, 2645)\t0.227158359577\n",
      "  (0, 2483)\t0.271747917836\n",
      "  (0, 2457)\t0.230306652867\n",
      "  (0, 2269)\t0.410888153589\n",
      "  (0, 1474)\t0.280914984675\n",
      "  (0, 859)\t0.339964536886\n",
      "  (0, 754)\t0.274909680281\n",
      "  (1, 2990)\t0.441334497634\n",
      "  (1, 2911)\t0.63451708456\n",
      "  (1, 336)\t0.63451708456\n",
      "  (2, 4585)\t0.290095389682\n",
      "  (2, 4210)\t0.411068078511\n",
      "  (2, 2594)\t0.178319270163\n",
      "  (2, 2271)\t0.181022243085\n",
      "  (2, 2130)\t0.272666342231\n",
      "  (2, 2094)\t0.267428158873\n",
      "  (2, 1711)\t0.313818041458\n",
      "  (2, 1573)\t0.3307380147\n",
      "  (2, 1213)\t0.310591425477\n",
      "  (2, 1174)\t0.369571230986\n",
      "  (2, 688)\t0.309057931306\n",
      "  :\t:\n",
      "  (12677, 1481)\t0.334021488777\n",
      "  (12678, 4894)\t0.266149401467\n",
      "  (12678, 4882)\t0.318946226281\n",
      "  (12678, 3595)\t0.319512408326\n",
      "  (12678, 3585)\t0.296146554539\n",
      "  (12678, 3060)\t0.273714115572\n",
      "  (12678, 3058)\t0.359798400484\n",
      "  (12678, 2884)\t0.383136490004\n",
      "  (12678, 1582)\t0.278342153052\n",
      "  (12678, 715)\t0.320084916558\n",
      "  (12678, 626)\t0.239256916136\n",
      "  (12678, 151)\t0.222050408874\n",
      "  (12679, 4016)\t0.310853429386\n",
      "  (12679, 3678)\t0.282742531471\n",
      "  (12679, 3607)\t0.313525082103\n",
      "  (12679, 3271)\t0.163159949661\n",
      "  (12679, 2697)\t0.209216799056\n",
      "  (12679, 2639)\t0.335195422936\n",
      "  (12679, 2591)\t0.246031026867\n",
      "  (12679, 2483)\t0.236623274963\n",
      "  (12679, 2054)\t0.226639202327\n",
      "  (12679, 1445)\t0.286683924341\n",
      "  (12679, 1284)\t0.340366239865\n",
      "  (12679, 1014)\t0.264231261846\n",
      "  (12679, 976)\t0.326554500153\n"
     ]
    }
   ],
   "source": [
    "print(Train_X_Tfidf)"
   ]
  },
  {
   "cell_type": "markdown",
   "metadata": {},
   "source": [
    "#### Naive Bayes Classifier Algorithm"
   ]
  },
  {
   "cell_type": "code",
   "execution_count": 20,
   "metadata": {},
   "outputs": [
    {
     "name": "stdout",
     "output_type": "stream",
     "text": [
      "Naive Bayes Accuracy Score ->  80.175065058\n"
     ]
    }
   ],
   "source": [
    "# fit the training dataset on the NB classifier\n",
    "Naive = naive_bayes.MultinomialNB()\n",
    "Naive.fit(Train_X_Tfidf,Train_Y)\n",
    "# predict the labels on validation dataset\n",
    "predictions_NB = Naive.predict(Test_X_Tfidf)\n",
    "# Use accuracy_score function to get the accuracy\n",
    "print(\"Naive Bayes Accuracy Score -> \",accuracy_score(predictions_NB, Test_Y)*100)"
   ]
  },
  {
   "cell_type": "markdown",
   "metadata": {},
   "source": [
    "#### Support Vector Machine"
   ]
  },
  {
   "cell_type": "code",
   "execution_count": 21,
   "metadata": {},
   "outputs": [
    {
     "name": "stdout",
     "output_type": "stream",
     "text": [
      "SVM Accuracy Score ->  83.9602555004\n"
     ]
    }
   ],
   "source": [
    "# Classifier - Algorithm - SVM\n",
    "# fit the training dataset on the classifier\n",
    "SVM = svm.SVC(C=1.0, kernel='linear', degree=3, gamma='auto')\n",
    "SVM.fit(Train_X_Tfidf,Train_Y)\n",
    "# predict the labels on validation dataset\n",
    "predictions_SVM = SVM.predict(Test_X_Tfidf)\n",
    "# Use accuracy_score function to get the accuracy\n",
    "print(\"SVM Accuracy Score -> \",accuracy_score(predictions_SVM, Test_Y)*100)"
   ]
  },
  {
   "cell_type": "markdown",
   "metadata": {},
   "source": [
    "#### Evaluation of Model / Metrics (10-Fold Cross Validation)"
   ]
  },
  {
   "cell_type": "markdown",
   "metadata": {},
   "source": [
    "SVM Evaluation"
   ]
  },
  {
   "cell_type": "code",
   "execution_count": 22,
   "metadata": {},
   "outputs": [
    {
     "data": {
      "text/plain": [
       "array([ 0.79481132,  0.82311321,  0.82783019,  0.79481132,  0.79009434,\n",
       "        0.8056872 ,  0.81753555,  0.82422803,  0.80997625,  0.84085511])"
      ]
     },
     "execution_count": 22,
     "metadata": {},
     "output_type": "execute_result"
    }
   ],
   "source": [
    "# 10-fold cross validation\n",
    "mod = svm.SVC(kernel='linear', C=1)\n",
    "scores = cross_val_score(mod, Test_X_Tfidf, Test_Y, cv=10)\n",
    "scores   "
   ]
  },
  {
   "cell_type": "code",
   "execution_count": 23,
   "metadata": {},
   "outputs": [
    {
     "name": "stdout",
     "output_type": "stream",
     "text": [
      "Accuracy: 0.81 (+/- 0.03)\n"
     ]
    }
   ],
   "source": [
    "print(\"Accuracy: %0.2f (+/- %0.2f)\" % (scores.mean(), scores.std() * 2))"
   ]
  },
  {
   "cell_type": "code",
   "execution_count": 24,
   "metadata": {},
   "outputs": [
    {
     "data": {
      "text/plain": [
       "array([ 0.7083179 ,  0.75666654,  0.73815307,  0.69563324,  0.69218646,\n",
       "        0.70807489,  0.73772791,  0.75994213,  0.70893113,  0.76724586])"
      ]
     },
     "execution_count": 24,
     "metadata": {},
     "output_type": "execute_result"
    }
   ],
   "source": [
    "mod = svm.SVC(kernel='linear', C=1)\n",
    "scores = cross_val_score(mod, Test_X_Tfidf, Test_Y, cv=10, scoring='f1_macro')\n",
    "scores "
   ]
  },
  {
   "cell_type": "code",
   "execution_count": 25,
   "metadata": {},
   "outputs": [
    {
     "name": "stdout",
     "output_type": "stream",
     "text": [
      "F1-Score: 0.73 (+/- 0.05)\n"
     ]
    }
   ],
   "source": [
    "print(\"F1-Score: %0.2f (+/- %0.2f)\" % (scores.mean(), scores.std() * 2))"
   ]
  },
  {
   "cell_type": "markdown",
   "metadata": {},
   "source": [
    "Naive Bayes Evaluation"
   ]
  },
  {
   "cell_type": "code",
   "execution_count": 26,
   "metadata": {},
   "outputs": [
    {
     "data": {
      "text/plain": [
       "array([ 0.73349057,  0.71226415,  0.73584906,  0.72877358,  0.73584906,\n",
       "        0.72748815,  0.74881517,  0.75059382,  0.74109264,  0.74346793])"
      ]
     },
     "execution_count": 26,
     "metadata": {},
     "output_type": "execute_result"
    }
   ],
   "source": [
    "# 10-fold cross validation\n",
    "modN = naive_bayes.MultinomialNB()\n",
    "scoresN = cross_val_score(modN, Test_X_Tfidf, Test_Y, cv=10)\n",
    "scoresN   "
   ]
  },
  {
   "cell_type": "code",
   "execution_count": 27,
   "metadata": {},
   "outputs": [
    {
     "name": "stdout",
     "output_type": "stream",
     "text": [
      "Accuracy: 0.74 (+/- 0.02)\n"
     ]
    }
   ],
   "source": [
    "print(\"Accuracy: %0.2f (+/- %0.2f)\" % (scoresN.mean(), scoresN.std() * 2))"
   ]
  },
  {
   "cell_type": "code",
   "execution_count": 28,
   "metadata": {},
   "outputs": [
    {
     "data": {
      "text/plain": [
       "array([ 0.52275471,  0.4683605 ,  0.49365079,  0.50767831,  0.50228237,\n",
       "        0.492459  ,  0.54538196,  0.55078722,  0.50598145,  0.50862069])"
      ]
     },
     "execution_count": 28,
     "metadata": {},
     "output_type": "execute_result"
    }
   ],
   "source": [
    "# 10-fold cross validation\n",
    "modN = naive_bayes.MultinomialNB()\n",
    "scoresN = cross_val_score(modN, Test_X_Tfidf, Test_Y, cv=10, scoring = 'f1_macro')\n",
    "scoresN "
   ]
  },
  {
   "cell_type": "code",
   "execution_count": 29,
   "metadata": {},
   "outputs": [
    {
     "name": "stdout",
     "output_type": "stream",
     "text": [
      "F1-Score: 0.51 (+/- 0.05)\n"
     ]
    }
   ],
   "source": [
    "print(\"F1-Score: %0.2f (+/- %0.2f)\" % (scoresN.mean(), scoresN.std() * 2))"
   ]
  },
  {
   "cell_type": "markdown",
   "metadata": {},
   "source": [
    "#### Confusion Matrix"
   ]
  },
  {
   "cell_type": "markdown",
   "metadata": {},
   "source": [
    "Confusion Matrix - SVM"
   ]
  },
  {
   "cell_type": "code",
   "execution_count": 30,
   "metadata": {},
   "outputs": [],
   "source": [
    "import matplotlib.pyplot as plt\n",
    "import seaborn as sns\n",
    "from sklearn.metrics import confusion_matrix\n",
    "conf_mat = confusion_matrix(Test_Y, predictions_SVM)"
   ]
  },
  {
   "cell_type": "code",
   "execution_count": 31,
   "metadata": {},
   "outputs": [
    {
     "data": {
      "text/plain": [
       "array([[2676,   82,   89],\n",
       "       [ 351,  544,    0],\n",
       "       [ 152,    4,  329]])"
      ]
     },
     "execution_count": 31,
     "metadata": {},
     "output_type": "execute_result"
    }
   ],
   "source": [
    "conf_mat"
   ]
  },
  {
   "cell_type": "code",
   "execution_count": 32,
   "metadata": {},
   "outputs": [
    {
     "data": {
      "image/png": "[encoded data removed]",
      "text/plain": [
       "<Figure size 720x720 with 2 Axes>"
      ]
     },
     "metadata": {},
     "output_type": "display_data"
    }
   ],
   "source": [
    "fig, ax = plt.subplots(figsize=(10,10))\n",
    "sns.heatmap(conf_mat, annot=True, fmt='d')\n",
    "            #,\n",
    "            #xticklabels=raw_text.abusive_flag.values, yticklabels=raw_text.abusive_flag.values)\n",
    "plt.ylabel('Actual')\n",
    "plt.xlabel('Predicted')\n",
    "plt.show()"
   ]
  },
  {
   "cell_type": "markdown",
   "metadata": {},
   "source": [
    "Confusion Matrix - Naive Bayes"
   ]
  },
  {
   "cell_type": "code",
   "execution_count": 33,
   "metadata": {},
   "outputs": [
    {
     "data": {
      "text/plain": [
       "array([[2719,   43,   85],\n",
       "       [ 486,  409,    0],\n",
       "       [ 224,    0,  261]])"
      ]
     },
     "execution_count": 33,
     "metadata": {},
     "output_type": "execute_result"
    }
   ],
   "source": [
    "conf_mat = confusion_matrix(Test_Y, predictions_NB)\n",
    "conf_mat"
   ]
  },
  {
   "cell_type": "code",
   "execution_count": 34,
   "metadata": {},
   "outputs": [
    {
     "data": {
      "image/png": "[encoded data removed]",
      "text/plain": [
       "<Figure size 720x720 with 2 Axes>"
      ]
     },
     "metadata": {},
     "output_type": "display_data"
    }
   ],
   "source": [
    "fig, ax = plt.subplots(figsize=(10,10))\n",
    "sns.heatmap(conf_mat, annot=True, fmt='d')\n",
    "            #,\n",
    "            #xticklabels=raw_text.abusive_flag.values, yticklabels=raw_text.abusive_flag.values)\n",
    "plt.ylabel('Actual')\n",
    "plt.xlabel('Predicted')\n",
    "plt.show()"
   ]
  },
  {
   "cell_type": "markdown",
   "metadata": {},
   "source": [
    "Summary Evaluation Metrics - Utilising SKLEARN (Precision / Recall / F1-Score)"
   ]
  },
  {
   "cell_type": "markdown",
   "metadata": {},
   "source": [
    "SVM Summary"
   ]
  },
  {
   "cell_type": "code",
   "execution_count": 35,
   "metadata": {},
   "outputs": [
    {
     "name": "stdout",
     "output_type": "stream",
     "text": [
      "              precision    recall  f1-score   support\n",
      "\n",
      "           0       0.84      0.94      0.89      2847\n",
      "           1       0.86      0.61      0.71       895\n",
      "           2       0.79      0.68      0.73       485\n",
      "\n",
      "   micro avg       0.84      0.84      0.84      4227\n",
      "   macro avg       0.83      0.74      0.78      4227\n",
      "weighted avg       0.84      0.84      0.83      4227\n",
      "\n"
     ]
    }
   ],
   "source": [
    "from sklearn import metrics\n",
    "print(metrics.classification_report(Test_Y, predictions_SVM))\n",
    "      #                              target_names=raw_text['abusive_flag'].unique().tolist()))"
   ]
  },
  {
   "cell_type": "code",
   "execution_count": 36,
   "metadata": {},
   "outputs": [
    {
     "name": "stdout",
     "output_type": "stream",
     "text": [
      "              precision    recall  f1-score   support\n",
      "\n",
      "           0       0.79      0.96      0.87      2847\n",
      "           1       0.90      0.46      0.61       895\n",
      "           2       0.75      0.54      0.63       485\n",
      "\n",
      "   micro avg       0.80      0.80      0.80      4227\n",
      "   macro avg       0.82      0.65      0.70      4227\n",
      "weighted avg       0.81      0.80      0.78      4227\n",
      "\n"
     ]
    }
   ],
   "source": [
    "from sklearn import metrics\n",
    "print(metrics.classification_report(Test_Y, predictions_NB))\n",
    "      #                              target_names=raw_text['abusive_flag'].unique().tolist()))"
   ]
  },
  {
   "attachments": {
    "image.png": {
     "image/png": "[encoded data removed]"
    }
   },
   "cell_type": "markdown",
   "metadata": {},
   "source": [
    "#### Explanation of Metrics\n",
    "\n",
    "see \n",
    "- https://towardsdatascience.com/precision-vs-recall-386cf9f89488\n",
    "- https://medium.com/usf-msds/choosing-the-right-metric-for-evaluating-machine-learning-models-part-2-86d5649a5428\n",
    "\n",
    "\n",
    "![image.png](attachment:image.png)\n",
    "\n",
    "There are 4 important terms :\n",
    "\n",
    "- True Positives  : The cases in which we predicted YES and the actual output was also YES.\n",
    "- True Negatives  : The cases in which we predicted NO and the actual output was NO.\n",
    "- False Positives : The cases in which we predicted YES and the actual output was NO.\n",
    "- False Negatives : The cases in which we predicted NO and the actual output was YES.\n"
   ]
  },
  {
   "attachments": {
    "image.png": {
     "image/png": "[encoded data removed]"
    }
   },
   "cell_type": "markdown",
   "metadata": {},
   "source": [
    "- F1-Score\n",
    "\n",
    "![image.png](attachment:image.png)\n"
   ]
  },
  {
   "cell_type": "markdown",
   "metadata": {},
   "source": [
    "https://scikit-learn.org/stable/modules/cross_validation.html"
   ]
  },
  {
   "cell_type": "code",
   "execution_count": null,
   "metadata": {},
   "outputs": [],
   "source": []
  }
 ],
 "metadata": {
  "kernelspec": {
   "display_name": "Python 3",
   "language": "python",
   "name": "python3"
  },
  "language_info": {
   "codemirror_mode": {
    "name": "ipython",
    "version": 3
   },
   "file_extension": ".py",
   "mimetype": "text/x-python",
   "name": "python",
   "nbconvert_exporter": "python",
   "pygments_lexer": "ipython3",
   "version": "3.7.3"
  },
  "toc": {
   "base_numbering": 1,
   "nav_menu": {},
   "number_sections": true,
   "sideBar": true,
   "skip_h1_title": false,
   "title_cell": "Table of Contents",
   "title_sidebar": "Contents",
   "toc_cell": false,
   "toc_position": {},
   "toc_section_display": true,
   "toc_window_display": false
  }
 },
 "nbformat": 4,
 "nbformat_minor": 2
}
